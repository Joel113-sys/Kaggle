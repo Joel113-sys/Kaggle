{
 "cells": [
  {
   "cell_type": "code",
   "execution_count": 1,
   "id": "88596541",
   "metadata": {
    "_cell_guid": "b1076dfc-b9ad-4769-8c92-a6c4dae69d19",
    "_uuid": "8f2839f25d086af736a60e9eeb907d3b93b6e0e5",
    "execution": {
     "iopub.execute_input": "2023-02-07T09:16:31.431774Z",
     "iopub.status.busy": "2023-02-07T09:16:31.431231Z",
     "iopub.status.idle": "2023-02-07T09:16:31.462779Z",
     "shell.execute_reply": "2023-02-07T09:16:31.461643Z"
    },
    "papermill": {
     "duration": 0.039625,
     "end_time": "2023-02-07T09:16:31.465904",
     "exception": false,
     "start_time": "2023-02-07T09:16:31.426279",
     "status": "completed"
    },
    "tags": []
   },
   "outputs": [],
   "source": [
    "# This Python 3 environment comes with many helpful analytics libraries installed\n",
    "# It is defined by the kaggle/python Docker image: https://github.com/kaggle/docker-python\n",
    "# For example, here's several helpful packages to load\n",
    "import numpy as np # linear algebra\n",
    "import pandas as pd # data processing, CSV file I/O (e.g. pd.read_csv)\n",
    "import os\n",
    "from qids_package.qids import *"
   ]
  },
  {
   "cell_type": "code",
   "execution_count": 2,
   "id": "d86de509",
   "metadata": {
    "execution": {
     "iopub.execute_input": "2023-02-07T09:16:31.472207Z",
     "iopub.status.busy": "2023-02-07T09:16:31.471499Z",
     "iopub.status.idle": "2023-02-07T09:16:35.608074Z",
     "shell.execute_reply": "2023-02-07T09:16:35.605297Z"
    },
    "papermill": {
     "duration": 4.142418,
     "end_time": "2023-02-07T09:16:35.610593",
     "exception": false,
     "start_time": "2023-02-07T09:16:31.468175",
     "status": "completed"
    },
    "tags": []
   },
   "outputs": [
    {
     "name": "stdout",
     "output_type": "stream",
     "text": [
      "Environment is initialized.\n"
     ]
    }
   ],
   "source": [
    "env = make_env()  # initialize the environment"
   ]
  },
  {
   "cell_type": "code",
   "execution_count": 3,
   "id": "c4e34c90",
   "metadata": {
    "execution": {
     "iopub.execute_input": "2023-02-07T09:16:35.616598Z",
     "iopub.status.busy": "2023-02-07T09:16:35.615901Z",
     "iopub.status.idle": "2023-02-07T09:16:36.885065Z",
     "shell.execute_reply": "2023-02-07T09:16:36.883847Z"
    },
    "papermill": {
     "duration": 1.274848,
     "end_time": "2023-02-07T09:16:36.887640",
     "exception": false,
     "start_time": "2023-02-07T09:16:35.612792",
     "status": "completed"
    },
    "tags": []
   },
   "outputs": [
    {
     "name": "stdout",
     "output_type": "stream",
     "text": [
      "Data Feeding is finished.\n"
     ]
    }
   ],
   "source": [
    "# sample code using random number as prediction\n",
    "import random\n",
    "random.seed(42)\n",
    "while not env.is_end():\n",
    "    fundamental_df, market_df = env.get_current_market()  # get correlated dataset\n",
    "\n",
    "    # make your prediction Y here and replace the following four rows\n",
    "    l = []\n",
    "    for idx in range(54):\n",
    "        l.append(random.random())\n",
    "    predict_ds = pd.Series(l)\n",
    "\n",
    "    env.input_prediction(predict_ds)  # upload your predicted Y"
   ]
  },
  {
   "cell_type": "code",
   "execution_count": 4,
   "id": "fb10a065",
   "metadata": {
    "execution": {
     "iopub.execute_input": "2023-02-07T09:16:36.893995Z",
     "iopub.status.busy": "2023-02-07T09:16:36.892989Z",
     "iopub.status.idle": "2023-02-07T09:16:36.930076Z",
     "shell.execute_reply": "2023-02-07T09:16:36.928494Z"
    },
    "papermill": {
     "duration": 0.043113,
     "end_time": "2023-02-07T09:16:36.932982",
     "exception": false,
     "start_time": "2023-02-07T09:16:36.889869",
     "status": "completed"
    },
    "tags": []
   },
   "outputs": [
    {
     "name": "stdout",
     "output_type": "stream",
     "text": [
      "      date_time    return\n",
      "0       s0d1001  0.639427\n",
      "1       s1d1001  0.025011\n",
      "2       s2d1001  0.275029\n",
      "3       s3d1001  0.223211\n",
      "4       s4d1001  0.736471\n",
      "...         ...       ...\n",
      "37795  s49d1700  0.073287\n",
      "37796  s50d1700  0.079234\n",
      "37797  s51d1700  0.920565\n",
      "37798  s52d1700  0.261712\n",
      "37799  s53d1700  0.054814\n",
      "\n",
      "[37800 rows x 2 columns]\n"
     ]
    }
   ],
   "source": [
    "import pandas as pd\n",
    "print(pd.read_csv('/kaggle/working/submission.csv'))"
   ]
  }
 ],
 "metadata": {
  "kernelspec": {
   "display_name": "Python 3",
   "language": "python",
   "name": "python3"
  },
  "language_info": {
   "codemirror_mode": {
    "name": "ipython",
    "version": 3
   },
   "file_extension": ".py",
   "mimetype": "text/x-python",
   "name": "python",
   "nbconvert_exporter": "python",
   "pygments_lexer": "ipython3",
   "version": "3.7.12"
  },
  "papermill": {
   "default_parameters": {},
   "duration": 14.80789,
   "end_time": "2023-02-07T09:16:37.656340",
   "environment_variables": {},
   "exception": null,
   "input_path": "__notebook__.ipynb",
   "output_path": "__notebook__.ipynb",
   "parameters": {},
   "start_time": "2023-02-07T09:16:22.848450",
   "version": "2.3.4"
  }
 },
 "nbformat": 4,
 "nbformat_minor": 5
}
