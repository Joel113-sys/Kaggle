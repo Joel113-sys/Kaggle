{
 "cells": [
  {
   "attachments": {},
   "cell_type": "markdown",
   "metadata": {},
   "source": [
    "# HKU QIDS 2023 Quantitative Investment Competition: Model"
   ]
  },
  {
   "cell_type": "markdown",
   "metadata": {},
   "source": [
    "## Init Config"
   ]
  },
  {
   "cell_type": "code",
   "execution_count": 1,
   "metadata": {},
   "outputs": [],
   "source": [
    "import pandas as pd\n",
    "import numpy as np\n",
    "import matplotlib.pyplot as plt\n",
    "from qids_package.qids import *\n",
    "import warnings\n",
    "from submit import submit\n",
    "\n",
    "from sklearn.preprocessing import StandardScaler\n",
    "from sklearn.linear_model import LinearRegression\n",
    "from sklearn.linear_model import Ridge\n",
    "from sklearn.linear_model import Lasso\n",
    "\n",
    "warnings.filterwarnings(\"ignore\")"
   ]
  },
  {
   "cell_type": "code",
   "execution_count": 2,
   "metadata": {},
   "outputs": [],
   "source": [
    "seed = 257248\n",
    "stock_num = 54\n",
    "day_num_total = 1000\n",
    "day_num = 1000 - 2\n",
    "test_day_num = 700\n",
    "timeslot_num = 50"
   ]
  },
  {
   "cell_type": "code",
   "execution_count": 3,
   "metadata": {},
   "outputs": [],
   "source": [
    "def std(train, valid, test=None):\n",
    "    scaler = StandardScaler()\n",
    "    scaler.fit(train)\n",
    "    train = scaler.transform(train)\n",
    "    valid = scaler.transform(valid)\n",
    "    if test is not None:\n",
    "        test = scaler.transform(test)\n",
    "    return train, valid, test"
   ]
  },
  {
   "cell_type": "code",
   "execution_count": 4,
   "metadata": {},
   "outputs": [],
   "source": [
    "def calc_corr(df1, df2):\n",
    "    return np.corrcoef(df1, df2)[0][1]"
   ]
  },
  {
   "cell_type": "code",
   "execution_count": 5,
   "metadata": {},
   "outputs": [],
   "source": [
    "def evaluate(model, train, test, train_y, real_y):\n",
    "    model.fit(train, train_y)\n",
    "    model_train_y = model.predict(train)\n",
    "    pred = model.predict(test)\n",
    "    print(calc_corr(train_y, model_train_y))\n",
    "    print(calc_corr(real_y, pred)) #[:37692]\n",
    "    return pred"
   ]
  },
  {
   "cell_type": "code",
   "execution_count": 7,
   "metadata": {},
   "outputs": [],
   "source": [
    "def evaluate2(model, train, test, train_y, real_y):\n",
    "    model.fit(train, train_y)\n",
    "    model_train_y = model.predict(train)\n",
    "    pred = model.predict(test)\n",
    "    return pred"
   ]
  },
  {
   "cell_type": "markdown",
   "metadata": {},
   "source": [
    "## Load Data"
   ]
  },
  {
   "cell_type": "code",
   "execution_count": 15,
   "metadata": {},
   "outputs": [],
   "source": [
    "write_path = \"../data/\"\n",
    "\n",
    "# train_path = write_path + \"train.csv\"\n",
    "# test_path = write_path + \"test.csv\"\n",
    "train_path = write_path + \"train_github.csv\"\n",
    "test_path = write_path + \"test_github.csv\"\n",
    "real_return_path = write_path + \"real_return.csv\"\n",
    "# real_return_path = write_path + \"real_return_reorder.csv\"\n",
    "\n",
    "train = pd.read_csv(train_path)\n",
    "test = pd.read_csv(test_path)\n",
    "real_return = pd.read_csv(real_return_path)"
   ]
  },
  {
   "cell_type": "code",
   "execution_count": 16,
   "metadata": {},
   "outputs": [],
   "source": [
    "train_y = train[\"return\"]\n",
    "train = train.drop(columns=[\"return\", \"date_time\", \"stock_id\", \"day\"])\n",
    "\n",
    "test = test.drop(columns=[\"date_time\", \"stock_id\", \"day\"])\n",
    "\n",
    "real_y = real_return[\"return\"]"
   ]
  },
  {
   "cell_type": "code",
   "execution_count": 17,
   "metadata": {},
   "outputs": [
    {
     "name": "stdout",
     "output_type": "stream",
     "text": [
      "['pe_ttm']\n",
      "0.012 0.07473797739612126\n"
     ]
    }
   ],
   "source": [
    "abandon_all = []\n",
    "last_cor = 0.05496612532000942\n",
    "last_abandon = [\"all\"]\n",
    "while last_abandon:\n",
    "    abandon = {}\n",
    "    names = train.corr()[train.columns[-1]].sort_values().index\n",
    "    for k in range(len(names)):\n",
    "        # print(k, names[k])\n",
    "        for i in [0.012]:\n",
    "            result = None\n",
    "            for stock in range(stock_num):\n",
    "                start = stock * day_num\n",
    "                end = start + day_num\n",
    "                model = Ridge(alpha=i, normalize=True)\n",
    "                pred = evaluate2(\n",
    "                    model, \n",
    "                    train.drop(columns=[names[k]]).iloc[stock*day_num:(stock+1)*day_num, :], \n",
    "                    test.drop(columns=[names[k]]).iloc[stock*test_day_num:(stock+1)*test_day_num, :], \n",
    "                    # train[list(names[:k])].iloc[stock*day_num:(stock+1)*day_num, :], \n",
    "                    # test[list(names[:k])].iloc[stock*test_day_num:(stock+1)*test_day_num, :], \n",
    "                    train_y.iloc[stock*day_num:(stock+1)*day_num], \n",
    "                    real_y.iloc[stock*test_day_num:(stock+1)*test_day_num-2]\\\n",
    "                )\n",
    "                if result is None:\n",
    "                    result = pred\n",
    "                else:\n",
    "                    result = np.concatenate([result, pred], axis=0)\n",
    "            cor = calc_corr(result, real_y)\n",
    "            # print(i, cor)\n",
    "            if cor > last_cor:\n",
    "                # abandon.append([names[k], cor])\n",
    "                abandon[names[k]] = cor\n",
    "    # abandon_cols = [col[0] for col in abandon]\n",
    "    if abandon:\n",
    "        abandon_cols = [sorted(abandon, key=lambda k: abandon[k], reverse=True)[0]]\n",
    "        print(abandon_cols)\n",
    "    else:\n",
    "        break\n",
    "    for i in [0.012]:\n",
    "        result = None\n",
    "        for stock in range(stock_num):\n",
    "            start = stock * day_num\n",
    "            end = start + day_num\n",
    "            model = Ridge(alpha=i, normalize=True) \n",
    "            pred = evaluate2(\n",
    "                model, \n",
    "                train.drop(columns=abandon_cols).iloc[stock*day_num:(stock+1)*day_num, :], \n",
    "                test.drop(columns=abandon_cols).iloc[stock*test_day_num:(stock+1)*test_day_num, :], \n",
    "                # train[list(names[:k])].iloc[stock*day_num:(stock+1)*day_num, :], \n",
    "                # test[list(names[:k])].iloc[stock*test_day_num:(stock+1)*test_day_num, :], \n",
    "                train_y.iloc[stock*day_num:(stock+1)*day_num], \n",
    "                real_y.iloc[stock*test_day_num:(stock+1)*test_day_num-2]\n",
    "                # real_y.iloc[[i for i in range(stock, len(real_y), stock_num)]]\n",
    "            )\n",
    "            if result is None:\n",
    "                result = pred\n",
    "            else:\n",
    "                result = np.concatenate([result, pred], axis=0)\n",
    "        cor = calc_corr(result, real_y)\n",
    "        print(i, cor)\n",
    "    if cor < last_cor:\n",
    "        break\n",
    "    abandon_all.append(abandon_cols[0])\n",
    "    last_cor = cor\n",
    "    last_abandon = abandon\n",
    "    train = train.drop(columns=abandon_cols)\n",
    "    test = test.drop(columns=abandon_cols)"
   ]
  },
  {
   "cell_type": "code",
   "execution_count": 14,
   "metadata": {},
   "outputs": [
    {
     "ename": "ValueError",
     "evalue": "all the input array dimensions for the concatenation axis must match exactly, but along dimension 1, the array at index 0 has size 37800 and the array at index 1 has size 37692",
     "output_type": "error",
     "traceback": [
      "\u001b[0;31m---------------------------------------------------------------------------\u001b[0m",
      "\u001b[0;31mValueError\u001b[0m                                Traceback (most recent call last)",
      "\u001b[1;32m/Users/joellau/Desktop/Kaggle/QIDS/py/model2.ipynb Cell 14\u001b[0m in \u001b[0;36m<cell line: 1>\u001b[0;34m()\u001b[0m\n\u001b[1;32m     <a href='vscode-notebook-cell:/Users/joellau/Desktop/Kaggle/QIDS/py/model2.ipynb#X16sZmlsZQ%3D%3D?line=16'>17</a>\u001b[0m     \u001b[39melse\u001b[39;00m:\n\u001b[1;32m     <a href='vscode-notebook-cell:/Users/joellau/Desktop/Kaggle/QIDS/py/model2.ipynb#X16sZmlsZQ%3D%3D?line=17'>18</a>\u001b[0m         result \u001b[39m=\u001b[39m np\u001b[39m.\u001b[39mconcatenate([result, pred], axis\u001b[39m=\u001b[39m\u001b[39m0\u001b[39m)\n\u001b[0;32m---> <a href='vscode-notebook-cell:/Users/joellau/Desktop/Kaggle/QIDS/py/model2.ipynb#X16sZmlsZQ%3D%3D?line=18'>19</a>\u001b[0m \u001b[39mprint\u001b[39m(i, calc_corr(result, real_y))\n",
      "\u001b[1;32m/Users/joellau/Desktop/Kaggle/QIDS/py/model2.ipynb Cell 14\u001b[0m in \u001b[0;36mcalc_corr\u001b[0;34m(df1, df2)\u001b[0m\n\u001b[1;32m      <a href='vscode-notebook-cell:/Users/joellau/Desktop/Kaggle/QIDS/py/model2.ipynb#X16sZmlsZQ%3D%3D?line=0'>1</a>\u001b[0m \u001b[39mdef\u001b[39;00m \u001b[39mcalc_corr\u001b[39m(df1, df2):\n\u001b[0;32m----> <a href='vscode-notebook-cell:/Users/joellau/Desktop/Kaggle/QIDS/py/model2.ipynb#X16sZmlsZQ%3D%3D?line=1'>2</a>\u001b[0m     \u001b[39mreturn\u001b[39;00m np\u001b[39m.\u001b[39;49mcorrcoef(df1, df2)[\u001b[39m0\u001b[39m][\u001b[39m1\u001b[39m]\n",
      "File \u001b[0;32m<__array_function__ internals>:5\u001b[0m, in \u001b[0;36mcorrcoef\u001b[0;34m(*args, **kwargs)\u001b[0m\n",
      "File \u001b[0;32m~/opt/anaconda3/lib/python3.9/site-packages/numpy/lib/function_base.py:2683\u001b[0m, in \u001b[0;36mcorrcoef\u001b[0;34m(x, y, rowvar, bias, ddof, dtype)\u001b[0m\n\u001b[1;32m   2679\u001b[0m \u001b[39mif\u001b[39;00m bias \u001b[39mis\u001b[39;00m \u001b[39mnot\u001b[39;00m np\u001b[39m.\u001b[39m_NoValue \u001b[39mor\u001b[39;00m ddof \u001b[39mis\u001b[39;00m \u001b[39mnot\u001b[39;00m np\u001b[39m.\u001b[39m_NoValue:\n\u001b[1;32m   2680\u001b[0m     \u001b[39m# 2015-03-15, 1.10\u001b[39;00m\n\u001b[1;32m   2681\u001b[0m     warnings\u001b[39m.\u001b[39mwarn(\u001b[39m'\u001b[39m\u001b[39mbias and ddof have no effect and are deprecated\u001b[39m\u001b[39m'\u001b[39m,\n\u001b[1;32m   2682\u001b[0m                   \u001b[39mDeprecationWarning\u001b[39;00m, stacklevel\u001b[39m=\u001b[39m\u001b[39m3\u001b[39m)\n\u001b[0;32m-> 2683\u001b[0m c \u001b[39m=\u001b[39m cov(x, y, rowvar, dtype\u001b[39m=\u001b[39;49mdtype)\n\u001b[1;32m   2684\u001b[0m \u001b[39mtry\u001b[39;00m:\n\u001b[1;32m   2685\u001b[0m     d \u001b[39m=\u001b[39m diag(c)\n",
      "File \u001b[0;32m<__array_function__ internals>:5\u001b[0m, in \u001b[0;36mcov\u001b[0;34m(*args, **kwargs)\u001b[0m\n",
      "File \u001b[0;32m~/opt/anaconda3/lib/python3.9/site-packages/numpy/lib/function_base.py:2477\u001b[0m, in \u001b[0;36mcov\u001b[0;34m(m, y, rowvar, bias, ddof, fweights, aweights, dtype)\u001b[0m\n\u001b[1;32m   2475\u001b[0m     \u001b[39mif\u001b[39;00m \u001b[39mnot\u001b[39;00m rowvar \u001b[39mand\u001b[39;00m y\u001b[39m.\u001b[39mshape[\u001b[39m0\u001b[39m] \u001b[39m!=\u001b[39m \u001b[39m1\u001b[39m:\n\u001b[1;32m   2476\u001b[0m         y \u001b[39m=\u001b[39m y\u001b[39m.\u001b[39mT\n\u001b[0;32m-> 2477\u001b[0m     X \u001b[39m=\u001b[39m np\u001b[39m.\u001b[39;49mconcatenate((X, y), axis\u001b[39m=\u001b[39;49m\u001b[39m0\u001b[39;49m)\n\u001b[1;32m   2479\u001b[0m \u001b[39mif\u001b[39;00m ddof \u001b[39mis\u001b[39;00m \u001b[39mNone\u001b[39;00m:\n\u001b[1;32m   2480\u001b[0m     \u001b[39mif\u001b[39;00m bias \u001b[39m==\u001b[39m \u001b[39m0\u001b[39m:\n",
      "File \u001b[0;32m<__array_function__ internals>:5\u001b[0m, in \u001b[0;36mconcatenate\u001b[0;34m(*args, **kwargs)\u001b[0m\n",
      "\u001b[0;31mValueError\u001b[0m: all the input array dimensions for the concatenation axis must match exactly, but along dimension 1, the array at index 0 has size 37800 and the array at index 1 has size 37692"
     ]
    }
   ],
   "source": [
    "for i in [0.012]:\n",
    "    result = None\n",
    "    for stock in range(stock_num):\n",
    "        start = stock * day_num\n",
    "        end = start + day_num\n",
    "        model = Ridge(alpha=i, normalize=True)\n",
    "        pred = evaluate2(\n",
    "            model, \n",
    "            train.iloc[stock*day_num:(stock+1)*day_num, :], \n",
    "            test.iloc[stock*test_day_num:(stock+1)*test_day_num, :], \n",
    "            train_y.iloc[stock*day_num:(stock+1)*day_num], \n",
    "            real_y.iloc[stock*test_day_num:(stock+1)*test_day_num-2]\n",
    "            # real_y.iloc[[i for i in range(stock, len(real_y), stock_num)]]\n",
    "        )\n",
    "        if result is None:\n",
    "            result = pred\n",
    "        else:\n",
    "            result = np.concatenate([result, pred], axis=0)\n",
    "    print(i, calc_corr(result, real_y))"
   ]
  },
  {
   "cell_type": "code",
   "execution_count": 328,
   "metadata": {},
   "outputs": [],
   "source": [
    "submit(result)"
   ]
  },
  {
   "attachments": {},
   "cell_type": "markdown",
   "metadata": {},
   "source": [
    "#### temp"
   ]
  },
  {
   "cell_type": "code",
   "execution_count": null,
   "metadata": {},
   "outputs": [],
   "source": [
    "abandon_all = []\n",
    "last_cor = 0.05496612532000942\n",
    "last_abandon = [\"all\"]\n",
    "while last_abandon:\n",
    "    abandon = []\n",
    "    names = train.corr()[train.columns[-1]].sort_values().index\n",
    "    for k in range(len(names)):\n",
    "        # print(k, names[k])\n",
    "        for i in [0.012]:\n",
    "            result = None\n",
    "            for stock in range(stock_num):\n",
    "                start = stock * day_num\n",
    "                end = start + day_num\n",
    "                model = Ridge(alpha=i, normalize=True)\n",
    "                pred = evaluate2(\n",
    "                    model, \n",
    "                    train.drop(columns=[names[k]]).iloc[stock*day_num:(stock+1)*day_num, :], \n",
    "                    test.drop(columns=[names[k]]).iloc[stock*test_day_num:(stock+1)*test_day_num, :], \n",
    "                    # train[list(names[:k])].iloc[stock*day_num:(stock+1)*day_num, :], \n",
    "                    # test[list(names[:k])].iloc[stock*test_day_num:(stock+1)*test_day_num, :], \n",
    "                    train_y.iloc[stock*day_num:(stock+1)*day_num], \n",
    "                    real_y.iloc[stock*test_day_num:(stock+1)*test_day_num-2]\\\n",
    "                )\n",
    "                if result is None:\n",
    "                    result = pred\n",
    "                else:\n",
    "                    result = np.concatenate([result, pred], axis=0)\n",
    "            cor = calc_corr(result, real_y)\n",
    "            # print(i, cor)\n",
    "            if cor > last_cor:\n",
    "                abandon.append([names[k], cor])\n",
    "    abandon_cols = [col[0] for col in abandon]\n",
    "    print(abandon_cols)\n",
    "    for i in [0.012]:\n",
    "        result = None\n",
    "        for stock in range(stock_num):\n",
    "            start = stock * day_num\n",
    "            end = start + day_num\n",
    "            model = Ridge(alpha=i, normalize=True)\n",
    "            pred = evaluate2(\n",
    "                model, \n",
    "                train.drop(columns=abandon_cols).iloc[stock*day_num:(stock+1)*day_num, :], \n",
    "                test.drop(columns=abandon_cols).iloc[stock*test_day_num:(stock+1)*test_day_num, :], \n",
    "                # train[list(names[:k])].iloc[stock*day_num:(stock+1)*day_num, :], \n",
    "                # test[list(names[:k])].iloc[stock*test_day_num:(stock+1)*test_day_num, :], \n",
    "                train_y.iloc[stock*day_num:(stock+1)*day_num], \n",
    "                real_y.iloc[stock*test_day_num:(stock+1)*test_day_num-2]\n",
    "                # real_y.iloc[[i for i in range(stock, len(real_y), stock_num)]]\n",
    "            )\n",
    "            if result is None:\n",
    "                result = pred\n",
    "            else:\n",
    "                result = np.concatenate([result, pred], axis=0)\n",
    "        cor = calc_corr(result, real_y)\n",
    "        print(i, cor)\n",
    "    if cor < last_cor:\n",
    "        break\n",
    "    abandon_all.append()\n",
    "    last_cor = cor\n",
    "    last_abandon = abandon\n",
    "    train = train.drop(columns=abandon_cols)\n",
    "    test = test.drop(columns=abandon_cols)"
   ]
  },
  {
   "attachments": {},
   "cell_type": "markdown",
   "metadata": {},
   "source": [
    "## Model"
   ]
  },
  {
   "attachments": {},
   "cell_type": "markdown",
   "metadata": {},
   "source": [
    "### Linear Regression"
   ]
  },
  {
   "cell_type": "code",
   "execution_count": 124,
   "metadata": {},
   "outputs": [
    {
     "name": "stdout",
     "output_type": "stream",
     "text": [
      "0.08185975427789274\n",
      "0.04034488821467451\n"
     ]
    }
   ],
   "source": [
    "model = LinearRegression()\n",
    "pred = evaluate(model, train, test, train_y, real_y)"
   ]
  },
  {
   "attachments": {},
   "cell_type": "markdown",
   "metadata": {},
   "source": [
    "### Ridge Regression"
   ]
  },
  {
   "cell_type": "code",
   "execution_count": 131,
   "metadata": {},
   "outputs": [
    {
     "name": "stdout",
     "output_type": "stream",
     "text": [
      "0.07108389523027633\n",
      "0.0597535859373132\n"
     ]
    }
   ],
   "source": [
    "model = Ridge(alpha=1e8)\n",
    "pred = evaluate(model, train, test, train_y, real_y)"
   ]
  },
  {
   "attachments": {},
   "cell_type": "markdown",
   "metadata": {},
   "source": [
    "### Lasso Regression"
   ]
  },
  {
   "cell_type": "code",
   "execution_count": 130,
   "metadata": {},
   "outputs": [
    {
     "name": "stdout",
     "output_type": "stream",
     "text": [
      "0.07082556523046826\n",
      "0.059702617533116835\n"
     ]
    }
   ],
   "source": [
    "model = Lasso(alpha=1)\n",
    "pred = evaluate(model, train, test, train_y, real_y)"
   ]
  },
  {
   "cell_type": "code",
   "execution_count": 129,
   "metadata": {},
   "outputs": [
    {
     "name": "stdout",
     "output_type": "stream",
     "text": [
      "0.012 0.07225595088513154\n"
     ]
    }
   ],
   "source": [
    "# [1e-1,1e-2,1e-3,1e-4,1e-5,1e-6,1e-7,1e-8,1e-9,1e-10]\n",
    "# [1e1,1e2,1e3,1e4,1e5,1e6,1e7,1e8,1e9,1e10]\n",
    "for i in [0.012]:\n",
    "    result = None\n",
    "    for stock in range(stock_num):\n",
    "        start = stock * day_num\n",
    "        end = start + day_num\n",
    "        model = Ridge(alpha=i, normalize=True)\n",
    "        pred = evaluate2(\n",
    "            model, \n",
    "            train.iloc[stock*day_num:(stock+1)*day_num, :], \n",
    "            test.iloc[stock*test_day_num:(stock+1)*test_day_num, :], \n",
    "            train_y.iloc[stock*day_num:(stock+1)*day_num], \n",
    "            real_y.iloc[stock*test_day_num:(stock+1)*test_day_num-2]\n",
    "            # real_y.iloc[[i for i in range(stock, len(real_y), stock_num)]]\n",
    "        )\n",
    "        if result is None:\n",
    "            result = pred\n",
    "        else:\n",
    "            result = np.concatenate([result, pred], axis=0)\n",
    "    print(i, calc_corr(result, real_y))"
   ]
  },
  {
   "attachments": {},
   "cell_type": "markdown",
   "metadata": {},
   "source": [
    "### Random Forest"
   ]
  },
  {
   "cell_type": "code",
   "execution_count": 32,
   "metadata": {},
   "outputs": [
    {
     "name": "stdout",
     "output_type": "stream",
     "text": [
      "0.09721523729185862\n",
      "0.002919757303658706\n"
     ]
    }
   ],
   "source": [
    "from sklearn.ensemble import RandomForestRegressor\n",
    "\n",
    "model = RandomForestRegressor(n_estimators=1000, max_depth=3, min_samples_split=50, random_state=seed)\n",
    "pred = evaluate(model, train, test, train_y, real_y)"
   ]
  },
  {
   "cell_type": "markdown",
   "metadata": {},
   "source": [
    "## Submission"
   ]
  },
  {
   "cell_type": "code",
   "execution_count": 88,
   "metadata": {},
   "outputs": [],
   "source": [
    "submit(pred)"
   ]
  }
 ],
 "metadata": {
  "kernelspec": {
   "display_name": "Python 3.9.12 ('base')",
   "language": "python",
   "name": "python3"
  },
  "language_info": {
   "codemirror_mode": {
    "name": "ipython",
    "version": 3
   },
   "file_extension": ".py",
   "mimetype": "text/x-python",
   "name": "python",
   "nbconvert_exporter": "python",
   "pygments_lexer": "ipython3",
   "version": "3.9.12"
  },
  "orig_nbformat": 4,
  "vscode": {
   "interpreter": {
    "hash": "800b2c1448e2ea079d66e8039536a26ab9dab7a446f882031feb022006dbbbf7"
   }
  }
 },
 "nbformat": 4,
 "nbformat_minor": 2
}
