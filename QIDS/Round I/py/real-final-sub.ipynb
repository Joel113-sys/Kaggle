{
 "cells": [
  {
   "cell_type": "code",
   "execution_count": 1,
   "id": "157a96c4",
   "metadata": {
    "_cell_guid": "b1076dfc-b9ad-4769-8c92-a6c4dae69d19",
    "_uuid": "8f2839f25d086af736a60e9eeb907d3b93b6e0e5",
    "execution": {
     "iopub.execute_input": "2023-03-13T11:44:25.217061Z",
     "iopub.status.busy": "2023-03-13T11:44:25.216269Z",
     "iopub.status.idle": "2023-03-13T11:44:26.748321Z",
     "shell.execute_reply": "2023-03-13T11:44:26.747021Z"
    },
    "papermill": {
     "duration": 1.544022,
     "end_time": "2023-03-13T11:44:26.751405",
     "exception": false,
     "start_time": "2023-03-13T11:44:25.207383",
     "status": "completed"
    },
    "tags": []
   },
   "outputs": [],
   "source": [
    "# This Python 3 environment comes with many helpful analytics libraries installed\n",
    "# It is defined by the kaggle/python Docker image: https://github.com/kaggle/docker-python\n",
    "# For example, here's several helpful packages to load\n",
    "import numpy as np # linear algebra\n",
    "import pandas as pd # data processing, CSV file I/O (e.g. pd.read_csv)\n",
    "import os\n",
    "from qids_package.qids import *\n",
    "import pandas as pd\n",
    "import numpy as np\n",
    "import matplotlib.pyplot as plt\n",
    "import os\n",
    "import seaborn as sns\n",
    "from qids_package.qids import *\n",
    "import warnings\n",
    "# from submit import submit\n",
    "import matplotlib.pyplot as plt\n",
    "import copy\n",
    "\n",
    "from sklearn.preprocessing import StandardScaler\n",
    "# from sklearn.metrics import mean_squared_error as mse\n",
    "from sklearn.linear_model import LinearRegression\n",
    "\n",
    "warnings.filterwarnings(\"ignore\")"
   ]
  },
  {
   "cell_type": "code",
   "execution_count": 2,
   "id": "1bdc5641",
   "metadata": {
    "execution": {
     "iopub.execute_input": "2023-03-13T11:44:26.765649Z",
     "iopub.status.busy": "2023-03-13T11:44:26.765202Z",
     "iopub.status.idle": "2023-03-13T11:44:26.771169Z",
     "shell.execute_reply": "2023-03-13T11:44:26.769884Z"
    },
    "papermill": {
     "duration": 0.016139,
     "end_time": "2023-03-13T11:44:26.773922",
     "exception": false,
     "start_time": "2023-03-13T11:44:26.757783",
     "status": "completed"
    },
    "tags": []
   },
   "outputs": [],
   "source": [
    "seed = 257248\n",
    "stock_num = 54\n",
    "train_day_num_total = 1000\n",
    "train_day_num = 1000 - 2\n",
    "test_day_num = 700\n",
    "timeslot_num = 50"
   ]
  },
  {
   "cell_type": "code",
   "execution_count": 3,
   "id": "d84ddffb",
   "metadata": {
    "execution": {
     "iopub.execute_input": "2023-03-13T11:44:26.787711Z",
     "iopub.status.busy": "2023-03-13T11:44:26.787322Z",
     "iopub.status.idle": "2023-03-13T11:44:26.796425Z",
     "shell.execute_reply": "2023-03-13T11:44:26.795110Z"
    },
    "papermill": {
     "duration": 0.019665,
     "end_time": "2023-03-13T11:44:26.799367",
     "exception": false,
     "start_time": "2023-03-13T11:44:26.779702",
     "status": "completed"
    },
    "tags": []
   },
   "outputs": [],
   "source": [
    "calc_log = lambda df: np.log(np.where(df > 1e-8, df, 1e-8))\n",
    "calc_mean = lambda df: df.mean(axis=0)\n",
    "calc_max = lambda df: df.max(axis=0)\n",
    "calc_min = lambda df: df.min(axis=0)\n",
    "calc_std = lambda df: df.std()\n",
    "calc_var = lambda df: df.var()\n",
    "calc_add = lambda df1, df2: df1 + df2\n",
    "calc_diff = lambda df1, df2: df1 - df2\n",
    "calc_prod = lambda df1, df2: df1 * df2\n",
    "calc_div = lambda df1, df2: df1 / df2"
   ]
  },
  {
   "cell_type": "code",
   "execution_count": 4,
   "id": "7884b9e1",
   "metadata": {
    "execution": {
     "iopub.execute_input": "2023-03-13T11:44:26.812975Z",
     "iopub.status.busy": "2023-03-13T11:44:26.812510Z",
     "iopub.status.idle": "2023-03-13T11:44:26.836881Z",
     "shell.execute_reply": "2023-03-13T11:44:26.835606Z"
    },
    "papermill": {
     "duration": 0.034635,
     "end_time": "2023-03-13T11:44:26.839845",
     "exception": false,
     "start_time": "2023-03-13T11:44:26.805210",
     "status": "completed"
    },
    "tags": []
   },
   "outputs": [],
   "source": [
    "def preprocess(fun, mar, ret=None):\n",
    "    fun[\"stock_id\"] = fun[\"date_time\"].apply(lambda x: x.split(\"d\")[0][1:]).astype(\"int\")\n",
    "    fun[\"day\"] = fun[\"date_time\"].apply(lambda x: x.split(\"d\")[1][:]).astype(\"int\")\n",
    "    # fun[\"log_pb\"] = calc_log(fun[\"pb\"])\n",
    "    # fun[\"log_ps\"] = calc_log(fun[\"ps\"])\n",
    "    fun = fun.sort_values(by=[\"stock_id\", \"day\"])\n",
    "    na_fun = fun.loc[fun[\"day\"].isin([999, 1000])]\n",
    "    fun = fun.drop(na_fun.index, axis=0).reset_index(drop=True)\n",
    "    na_fun = na_fun.reset_index(drop=True)\n",
    "\n",
    "    mar[\"stock_id\"] = mar[\"date_time\"].apply(lambda x: x.split(\"d\")[0][1:]).astype(\"int\")\n",
    "    mar[\"day\"] = mar[\"date_time\"].apply(lambda x: x.split(\"d\")[1].split(\"p\")[0]).astype(\"int\")\n",
    "    mar[\"time\"] = mar[\"date_time\"].apply(lambda x: x.split(\"p\")[1]).astype(\"int\")\n",
    "    mar = mar.sort_values(by=[\"stock_id\", \"day\", \"time\"]).reset_index(drop=True)\n",
    "    na_mar = mar.loc[mar[\"day\"].isin([999, 1000])]\n",
    "    mar = mar.drop(na_mar.index, axis=0).reset_index(drop=True)\n",
    "    na_mar = na_mar.reset_index(drop=True)\n",
    "\n",
    "    combined = copy.deepcopy(fun)\n",
    "    if ret is not None:\n",
    "        ret[\"stock_id\"] = ret[\"date_time\"].apply(lambda x: x.split(\"d\")[0][1:]).astype(\"int\")\n",
    "        ret[\"day\"] = ret[\"date_time\"].apply(lambda x: x.split(\"d\")[1][:]).astype(\"int\")\n",
    "        # ret[\"log_pb\"] = calc_log(ret[\"pb\"])\n",
    "        # ret[\"log_ps\"] = calc_log(ret[\"ps\"])\n",
    "        ret = ret.sort_values(by=[\"stock_id\", \"day\"]).reset_index(drop=True)\n",
    "        combined[\"return\"] = ret[\"return\"]\n",
    "        day_num = train_day_num\n",
    "    else:\n",
    "        day_num = 1\n",
    "\n",
    "    mar_summary = []\n",
    "    start = 0\n",
    "    for stock in range(stock_num):\n",
    "        end = start + day_num * timeslot_num\n",
    "        stock_info = mar.iloc[start:end, :]\n",
    "        day_start = 0\n",
    "        for day in range(day_num):\n",
    "            day_end = day_start + timeslot_num\n",
    "            stock_info_per_day = stock_info.iloc[day_start:day_end, :]\n",
    "            mar_summary.append([\n",
    "                calc_mean(stock_info_per_day[\"open\"]),\n",
    "                calc_mean(stock_info_per_day[\"close\"]),\n",
    "                calc_mean(stock_info_per_day[\"high\"]),\n",
    "                calc_mean(stock_info_per_day[\"low\"]),\n",
    "                calc_mean(stock_info_per_day[\"volume\"]),\n",
    "                calc_mean(stock_info_per_day[\"money\"]),\n",
    "                calc_max(stock_info_per_day[\"high\"]),\n",
    "                calc_max(stock_info_per_day[\"volume\"]),\n",
    "                calc_max(stock_info_per_day[\"money\"]),\n",
    "                calc_min(stock_info_per_day[\"low\"]),\n",
    "                calc_min(stock_info_per_day[\"volume\"]),\n",
    "                calc_min(stock_info_per_day[\"money\"]),\n",
    "                calc_std(stock_info_per_day[\"volume\"]),\n",
    "                calc_std(stock_info_per_day[\"money\"]),\n",
    "                calc_var(stock_info_per_day[\"volume\"]),\n",
    "                calc_var(stock_info_per_day[\"money\"]),\n",
    "                calc_max(calc_div(calc_diff(stock_info_per_day[\"close\"], stock_info_per_day[\"open\"]), stock_info_per_day[\"open\"])),\n",
    "                calc_max(calc_div(calc_diff(stock_info_per_day[\"high\"], stock_info_per_day[\"low\"]), stock_info_per_day[\"open\"])),\n",
    "            ])\n",
    "            day_start = day_end\n",
    "        start = end\n",
    "    cols = [\n",
    "        \"open_mean\",\n",
    "        \"close_mean\",\n",
    "        \"high_mean\",\n",
    "        \"low_mean\",\n",
    "        \"volume_mean\",\n",
    "        \"money_mean\",\n",
    "        \"high_max\",\n",
    "        \"volume_max\",\n",
    "        \"money_max\",\n",
    "        \"low_min\",\n",
    "        \"volume_min\",\n",
    "        \"money_min\",#\n",
    "        \"volume_std\",#\n",
    "        \"money_std\",#\n",
    "        \"volume_var\",#\n",
    "        \"money_var\",#\n",
    "        \"price_diff\",\n",
    "        \"price_diff_max\",\n",
    "    ]\n",
    "    mar_summary = pd.DataFrame(mar_summary, columns=cols)\n",
    "    combined = pd.concat([combined, mar_summary], axis=1)\n",
    "\n",
    "    return [combined, fun, mar, na_fun, na_mar, ret] if ret is not None else [combined, fun, mar, na_fun, na_mar]"
   ]
  },
  {
   "cell_type": "code",
   "execution_count": 5,
   "id": "23fa9a08",
   "metadata": {
    "execution": {
     "iopub.execute_input": "2023-03-13T11:44:26.853610Z",
     "iopub.status.busy": "2023-03-13T11:44:26.852723Z",
     "iopub.status.idle": "2023-03-13T11:44:32.993499Z",
     "shell.execute_reply": "2023-03-13T11:44:32.992217Z"
    },
    "papermill": {
     "duration": 6.150413,
     "end_time": "2023-03-13T11:44:32.996156",
     "exception": false,
     "start_time": "2023-03-13T11:44:26.845743",
     "status": "completed"
    },
    "tags": []
   },
   "outputs": [],
   "source": [
    "ROOT_PATH = \"/kaggle/input/hku-qids-2023-quantitative-investment-competition/\"\n",
    "TRAIN_MARKET_PATH = f'{ROOT_PATH}first_round_train_market_data.csv'\n",
    "# TRAIN_MARKET_PATH = f'{ROOT_PATH}train.csv'\n",
    "TRAIN_FUNADMENTAL_PATH = f'{ROOT_PATH}first_round_train_fundamental_data.csv'\n",
    "TRAIN_RETURN_PATH = f'{ROOT_PATH}first_round_train_return_data.csv'\n",
    "\n",
    "TEST_ROOT_PATH = \"/kaggle/input/hku-qids-2023-quantitative-investment-competition/qids_package/\"\n",
    "TEST_MARKET_PATH = f'{TEST_ROOT_PATH}first_round_test_market_data.csv'\n",
    "# TEST_MARKET_PATH = f'{ROOT_PATH}test.csv'\n",
    "TEST_FUNADMENTAL_PATH = f'{TEST_ROOT_PATH}first_round_test_fundamental_data.csv'\n",
    "\n",
    "pd.set_option('display.max_rows', 6)\n",
    "pd.set_option('display.max_columns', 350)\n",
    "\n",
    "#read data\n",
    "df_train_market = pd.read_csv(TRAIN_MARKET_PATH)\n",
    "df_train_return = pd.read_csv(TRAIN_RETURN_PATH)\n",
    "df_train_fundamental = pd.read_csv(TRAIN_FUNADMENTAL_PATH)\n"
   ]
  },
  {
   "cell_type": "code",
   "execution_count": 6,
   "id": "aeec7294",
   "metadata": {
    "execution": {
     "iopub.execute_input": "2023-03-13T11:44:33.009999Z",
     "iopub.status.busy": "2023-03-13T11:44:33.008803Z",
     "iopub.status.idle": "2023-03-13T11:44:33.016646Z",
     "shell.execute_reply": "2023-03-13T11:44:33.015481Z"
    },
    "papermill": {
     "duration": 0.017595,
     "end_time": "2023-03-13T11:44:33.019549",
     "exception": false,
     "start_time": "2023-03-13T11:44:33.001954",
     "status": "completed"
    },
    "tags": []
   },
   "outputs": [],
   "source": [
    "def reorder(df):\n",
    "    df_cols = df.columns\n",
    "    if 'return' not in df_cols:\n",
    "        df_cols_prior = ['date_time', 'stock_id', 'day']\n",
    "    else:\n",
    "        df_cols_prior = ['date_time', 'stock_id', 'day', 'return']\n",
    "    for col in df_cols:\n",
    "        if col not in df_cols_prior:\n",
    "            df_cols_prior.append(col)\n",
    "    if 'return' in df_cols_prior:\n",
    "        df_cols_prior.remove('return')\n",
    "        df_cols_prior.append('return')\n",
    "    return df[df_cols_prior]"
   ]
  },
  {
   "cell_type": "code",
   "execution_count": 7,
   "id": "6cb8f4d6",
   "metadata": {
    "execution": {
     "iopub.execute_input": "2023-03-13T11:44:33.032704Z",
     "iopub.status.busy": "2023-03-13T11:44:33.032304Z",
     "iopub.status.idle": "2023-03-13T11:46:48.451328Z",
     "shell.execute_reply": "2023-03-13T11:46:48.450151Z"
    },
    "papermill": {
     "duration": 135.429061,
     "end_time": "2023-03-13T11:46:48.454379",
     "exception": false,
     "start_time": "2023-03-13T11:44:33.025318",
     "status": "completed"
    },
    "tags": []
   },
   "outputs": [],
   "source": [
    "train_combined, train_fun, train_mar, train_na_fun, train_na_mar, train_ret = preprocess(df_train_fundamental, df_train_market, df_train_return)"
   ]
  },
  {
   "cell_type": "code",
   "execution_count": 8,
   "id": "992b5ccd",
   "metadata": {
    "execution": {
     "iopub.execute_input": "2023-03-13T11:46:48.468411Z",
     "iopub.status.busy": "2023-03-13T11:46:48.467586Z",
     "iopub.status.idle": "2023-03-13T11:46:48.523596Z",
     "shell.execute_reply": "2023-03-13T11:46:48.522338Z"
    },
    "papermill": {
     "duration": 0.066829,
     "end_time": "2023-03-13T11:46:48.527229",
     "exception": false,
     "start_time": "2023-03-13T11:46:48.460400",
     "status": "completed"
    },
    "tags": []
   },
   "outputs": [
    {
     "data": {
      "text/html": [
       "<div>\n",
       "<style scoped>\n",
       "    .dataframe tbody tr th:only-of-type {\n",
       "        vertical-align: middle;\n",
       "    }\n",
       "\n",
       "    .dataframe tbody tr th {\n",
       "        vertical-align: top;\n",
       "    }\n",
       "\n",
       "    .dataframe thead th {\n",
       "        text-align: right;\n",
       "    }\n",
       "</style>\n",
       "<table border=\"1\" class=\"dataframe\">\n",
       "  <thead>\n",
       "    <tr style=\"text-align: right;\">\n",
       "      <th></th>\n",
       "      <th>turnoverRatio</th>\n",
       "      <th>transactionAmount</th>\n",
       "      <th>pe_ttm</th>\n",
       "      <th>pe</th>\n",
       "      <th>pb</th>\n",
       "      <th>ps</th>\n",
       "      <th>pcf</th>\n",
       "      <th>open_mean</th>\n",
       "      <th>close_mean</th>\n",
       "      <th>high_mean</th>\n",
       "      <th>low_mean</th>\n",
       "      <th>volume_mean</th>\n",
       "      <th>money_mean</th>\n",
       "      <th>high_max</th>\n",
       "      <th>volume_max</th>\n",
       "      <th>money_max</th>\n",
       "      <th>low_min</th>\n",
       "      <th>volume_min</th>\n",
       "      <th>money_min</th>\n",
       "      <th>volume_std</th>\n",
       "      <th>money_std</th>\n",
       "      <th>volume_var</th>\n",
       "      <th>money_var</th>\n",
       "      <th>price_diff</th>\n",
       "      <th>price_diff_max</th>\n",
       "    </tr>\n",
       "  </thead>\n",
       "  <tbody>\n",
       "    <tr>\n",
       "      <th>0</th>\n",
       "      <td>3.6794</td>\n",
       "      <td>17229.0</td>\n",
       "      <td>34.4425</td>\n",
       "      <td>32.3029</td>\n",
       "      <td>4.9425</td>\n",
       "      <td>3.8180</td>\n",
       "      <td>-578.7700</td>\n",
       "      <td>24.550554</td>\n",
       "      <td>24.536720</td>\n",
       "      <td>24.578718</td>\n",
       "      <td>24.508076</td>\n",
       "      <td>454075.84</td>\n",
       "      <td>1.114925e+07</td>\n",
       "      <td>25.1378</td>\n",
       "      <td>1234546.0</td>\n",
       "      <td>3.056567e+07</td>\n",
       "      <td>24.2396</td>\n",
       "      <td>125623.0</td>\n",
       "      <td>3.079684e+06</td>\n",
       "      <td>284277.007520</td>\n",
       "      <td>6.994818e+06</td>\n",
       "      <td>8.081342e+10</td>\n",
       "      <td>4.892748e+13</td>\n",
       "      <td>0.006510</td>\n",
       "      <td>0.007816</td>\n",
       "    </tr>\n",
       "    <tr>\n",
       "      <th>1</th>\n",
       "      <td>3.2535</td>\n",
       "      <td>18378.0</td>\n",
       "      <td>33.3198</td>\n",
       "      <td>31.2498</td>\n",
       "      <td>4.7814</td>\n",
       "      <td>3.6935</td>\n",
       "      <td>-559.9031</td>\n",
       "      <td>23.955800</td>\n",
       "      <td>23.938318</td>\n",
       "      <td>23.988574</td>\n",
       "      <td>23.907490</td>\n",
       "      <td>401517.02</td>\n",
       "      <td>9.601600e+06</td>\n",
       "      <td>24.5552</td>\n",
       "      <td>853209.0</td>\n",
       "      <td>2.052481e+07</td>\n",
       "      <td>23.5234</td>\n",
       "      <td>181066.0</td>\n",
       "      <td>4.424170e+06</td>\n",
       "      <td>184834.988382</td>\n",
       "      <td>4.393546e+06</td>\n",
       "      <td>3.416397e+10</td>\n",
       "      <td>1.930325e+13</td>\n",
       "      <td>0.004981</td>\n",
       "      <td>0.010720</td>\n",
       "    </tr>\n",
       "    <tr>\n",
       "      <th>2</th>\n",
       "      <td>2.4947</td>\n",
       "      <td>13686.0</td>\n",
       "      <td>23.3887</td>\n",
       "      <td>23.3887</td>\n",
       "      <td>4.3823</td>\n",
       "      <td>2.9722</td>\n",
       "      <td>-42.8676</td>\n",
       "      <td>23.626130</td>\n",
       "      <td>23.628554</td>\n",
       "      <td>23.661090</td>\n",
       "      <td>23.591664</td>\n",
       "      <td>307969.24</td>\n",
       "      <td>7.275962e+06</td>\n",
       "      <td>23.7783</td>\n",
       "      <td>708274.0</td>\n",
       "      <td>1.677659e+07</td>\n",
       "      <td>23.3899</td>\n",
       "      <td>104030.0</td>\n",
       "      <td>2.446717e+06</td>\n",
       "      <td>152386.903079</td>\n",
       "      <td>3.596407e+06</td>\n",
       "      <td>2.322177e+10</td>\n",
       "      <td>1.293414e+13</td>\n",
       "      <td>0.007227</td>\n",
       "      <td>0.007741</td>\n",
       "    </tr>\n",
       "    <tr>\n",
       "      <th>...</th>\n",
       "      <td>...</td>\n",
       "      <td>...</td>\n",
       "      <td>...</td>\n",
       "      <td>...</td>\n",
       "      <td>...</td>\n",
       "      <td>...</td>\n",
       "      <td>...</td>\n",
       "      <td>...</td>\n",
       "      <td>...</td>\n",
       "      <td>...</td>\n",
       "      <td>...</td>\n",
       "      <td>...</td>\n",
       "      <td>...</td>\n",
       "      <td>...</td>\n",
       "      <td>...</td>\n",
       "      <td>...</td>\n",
       "      <td>...</td>\n",
       "      <td>...</td>\n",
       "      <td>...</td>\n",
       "      <td>...</td>\n",
       "      <td>...</td>\n",
       "      <td>...</td>\n",
       "      <td>...</td>\n",
       "      <td>...</td>\n",
       "      <td>...</td>\n",
       "    </tr>\n",
       "    <tr>\n",
       "      <th>53889</th>\n",
       "      <td>0.8417</td>\n",
       "      <td>5204.0</td>\n",
       "      <td>10.1469</td>\n",
       "      <td>10.1469</td>\n",
       "      <td>1.9012</td>\n",
       "      <td>0.3880</td>\n",
       "      <td>128.1758</td>\n",
       "      <td>9.436804</td>\n",
       "      <td>9.440208</td>\n",
       "      <td>9.455750</td>\n",
       "      <td>9.424180</td>\n",
       "      <td>164545.76</td>\n",
       "      <td>1.554019e+06</td>\n",
       "      <td>9.5162</td>\n",
       "      <td>615056.0</td>\n",
       "      <td>5.839099e+06</td>\n",
       "      <td>9.2613</td>\n",
       "      <td>40311.0</td>\n",
       "      <td>3.817547e+05</td>\n",
       "      <td>110059.745084</td>\n",
       "      <td>1.042889e+06</td>\n",
       "      <td>1.211315e+10</td>\n",
       "      <td>1.087617e+12</td>\n",
       "      <td>0.006528</td>\n",
       "      <td>0.013057</td>\n",
       "    </tr>\n",
       "    <tr>\n",
       "      <th>53890</th>\n",
       "      <td>1.4411</td>\n",
       "      <td>9143.0</td>\n",
       "      <td>10.4471</td>\n",
       "      <td>10.4471</td>\n",
       "      <td>1.9574</td>\n",
       "      <td>0.3995</td>\n",
       "      <td>131.9680</td>\n",
       "      <td>9.811140</td>\n",
       "      <td>9.816240</td>\n",
       "      <td>9.844646</td>\n",
       "      <td>9.790510</td>\n",
       "      <td>281720.62</td>\n",
       "      <td>2.775468e+06</td>\n",
       "      <td>10.1838</td>\n",
       "      <td>2456106.0</td>\n",
       "      <td>2.435143e+07</td>\n",
       "      <td>9.5041</td>\n",
       "      <td>39009.0</td>\n",
       "      <td>3.854252e+05</td>\n",
       "      <td>405452.233955</td>\n",
       "      <td>4.021387e+06</td>\n",
       "      <td>1.643915e+11</td>\n",
       "      <td>1.617155e+13</td>\n",
       "      <td>0.021176</td>\n",
       "      <td>0.032380</td>\n",
       "    </tr>\n",
       "    <tr>\n",
       "      <th>53891</th>\n",
       "      <td>1.2933</td>\n",
       "      <td>9681.0</td>\n",
       "      <td>10.6513</td>\n",
       "      <td>10.6513</td>\n",
       "      <td>1.9956</td>\n",
       "      <td>0.4073</td>\n",
       "      <td>134.5467</td>\n",
       "      <td>9.820860</td>\n",
       "      <td>9.827900</td>\n",
       "      <td>9.850964</td>\n",
       "      <td>9.793908</td>\n",
       "      <td>252827.46</td>\n",
       "      <td>2.483025e+06</td>\n",
       "      <td>9.9896</td>\n",
       "      <td>894193.0</td>\n",
       "      <td>8.680005e+06</td>\n",
       "      <td>9.6012</td>\n",
       "      <td>50822.0</td>\n",
       "      <td>4.971822e+05</td>\n",
       "      <td>192381.369171</td>\n",
       "      <td>1.887090e+06</td>\n",
       "      <td>3.701059e+10</td>\n",
       "      <td>3.561110e+12</td>\n",
       "      <td>0.014920</td>\n",
       "      <td>0.017410</td>\n",
       "    </tr>\n",
       "  </tbody>\n",
       "</table>\n",
       "<p>53892 rows × 25 columns</p>\n",
       "</div>"
      ],
      "text/plain": [
       "       turnoverRatio  transactionAmount   pe_ttm       pe      pb      ps  \\\n",
       "0             3.6794            17229.0  34.4425  32.3029  4.9425  3.8180   \n",
       "1             3.2535            18378.0  33.3198  31.2498  4.7814  3.6935   \n",
       "2             2.4947            13686.0  23.3887  23.3887  4.3823  2.9722   \n",
       "...              ...                ...      ...      ...     ...     ...   \n",
       "53889         0.8417             5204.0  10.1469  10.1469  1.9012  0.3880   \n",
       "53890         1.4411             9143.0  10.4471  10.4471  1.9574  0.3995   \n",
       "53891         1.2933             9681.0  10.6513  10.6513  1.9956  0.4073   \n",
       "\n",
       "            pcf  open_mean  close_mean  high_mean   low_mean  volume_mean  \\\n",
       "0     -578.7700  24.550554   24.536720  24.578718  24.508076    454075.84   \n",
       "1     -559.9031  23.955800   23.938318  23.988574  23.907490    401517.02   \n",
       "2      -42.8676  23.626130   23.628554  23.661090  23.591664    307969.24   \n",
       "...         ...        ...         ...        ...        ...          ...   \n",
       "53889  128.1758   9.436804    9.440208   9.455750   9.424180    164545.76   \n",
       "53890  131.9680   9.811140    9.816240   9.844646   9.790510    281720.62   \n",
       "53891  134.5467   9.820860    9.827900   9.850964   9.793908    252827.46   \n",
       "\n",
       "         money_mean  high_max  volume_max     money_max  low_min  volume_min  \\\n",
       "0      1.114925e+07   25.1378   1234546.0  3.056567e+07  24.2396    125623.0   \n",
       "1      9.601600e+06   24.5552    853209.0  2.052481e+07  23.5234    181066.0   \n",
       "2      7.275962e+06   23.7783    708274.0  1.677659e+07  23.3899    104030.0   \n",
       "...             ...       ...         ...           ...      ...         ...   \n",
       "53889  1.554019e+06    9.5162    615056.0  5.839099e+06   9.2613     40311.0   \n",
       "53890  2.775468e+06   10.1838   2456106.0  2.435143e+07   9.5041     39009.0   \n",
       "53891  2.483025e+06    9.9896    894193.0  8.680005e+06   9.6012     50822.0   \n",
       "\n",
       "          money_min     volume_std     money_std    volume_var     money_var  \\\n",
       "0      3.079684e+06  284277.007520  6.994818e+06  8.081342e+10  4.892748e+13   \n",
       "1      4.424170e+06  184834.988382  4.393546e+06  3.416397e+10  1.930325e+13   \n",
       "2      2.446717e+06  152386.903079  3.596407e+06  2.322177e+10  1.293414e+13   \n",
       "...             ...            ...           ...           ...           ...   \n",
       "53889  3.817547e+05  110059.745084  1.042889e+06  1.211315e+10  1.087617e+12   \n",
       "53890  3.854252e+05  405452.233955  4.021387e+06  1.643915e+11  1.617155e+13   \n",
       "53891  4.971822e+05  192381.369171  1.887090e+06  3.701059e+10  3.561110e+12   \n",
       "\n",
       "       price_diff  price_diff_max  \n",
       "0        0.006510        0.007816  \n",
       "1        0.004981        0.010720  \n",
       "2        0.007227        0.007741  \n",
       "...           ...             ...  \n",
       "53889    0.006528        0.013057  \n",
       "53890    0.021176        0.032380  \n",
       "53891    0.014920        0.017410  \n",
       "\n",
       "[53892 rows x 25 columns]"
      ]
     },
     "execution_count": 8,
     "metadata": {},
     "output_type": "execute_result"
    }
   ],
   "source": [
    "train = reorder(train_combined)\n",
    "train_y = train[\"return\"]\n",
    "train = train.drop(columns=[\"return\", \"date_time\",'stock_id','day'])\n",
    "# test = test.drop(columns=[\"date_time\",'stock_id','day'])\n",
    "train"
   ]
  },
  {
   "cell_type": "code",
   "execution_count": 9,
   "id": "0bc56131",
   "metadata": {
    "execution": {
     "iopub.execute_input": "2023-03-13T11:46:48.541168Z",
     "iopub.status.busy": "2023-03-13T11:46:48.540731Z",
     "iopub.status.idle": "2023-03-13T11:46:48.549880Z",
     "shell.execute_reply": "2023-03-13T11:46:48.548715Z"
    },
    "papermill": {
     "duration": 0.018814,
     "end_time": "2023-03-13T11:46:48.552249",
     "exception": false,
     "start_time": "2023-03-13T11:46:48.533435",
     "status": "completed"
    },
    "tags": []
   },
   "outputs": [
    {
     "data": {
      "text/plain": [
       "0       -0.026877\n",
       "1        0.028805\n",
       "2        0.107928\n",
       "           ...   \n",
       "53889    0.050002\n",
       "53890    0.019924\n",
       "53891   -0.003662\n",
       "Name: return, Length: 53892, dtype: float64"
      ]
     },
     "execution_count": 9,
     "metadata": {},
     "output_type": "execute_result"
    }
   ],
   "source": [
    "train_y"
   ]
  },
  {
   "cell_type": "code",
   "execution_count": 10,
   "id": "b5ce8ede",
   "metadata": {
    "execution": {
     "iopub.execute_input": "2023-03-13T11:46:48.566852Z",
     "iopub.status.busy": "2023-03-13T11:46:48.566119Z",
     "iopub.status.idle": "2023-03-13T11:46:48.573659Z",
     "shell.execute_reply": "2023-03-13T11:46:48.572830Z"
    },
    "papermill": {
     "duration": 0.017773,
     "end_time": "2023-03-13T11:46:48.576116",
     "exception": false,
     "start_time": "2023-03-13T11:46:48.558343",
     "status": "completed"
    },
    "tags": []
   },
   "outputs": [],
   "source": [
    "abandon_all = ['transactionAmount', 'volume_min', 'money_mean', 'money_max', 'low_mean', 'close_mean', 'open_mean', 'high_mean', 'low_min', 'volume_std']\n",
    "train = train.drop(columns=abandon_all)"
   ]
  },
  {
   "cell_type": "code",
   "execution_count": 11,
   "id": "a68b188a",
   "metadata": {
    "execution": {
     "iopub.execute_input": "2023-03-13T11:46:48.590655Z",
     "iopub.status.busy": "2023-03-13T11:46:48.589871Z",
     "iopub.status.idle": "2023-03-13T11:46:48.614307Z",
     "shell.execute_reply": "2023-03-13T11:46:48.613438Z"
    },
    "papermill": {
     "duration": 0.034206,
     "end_time": "2023-03-13T11:46:48.616429",
     "exception": false,
     "start_time": "2023-03-13T11:46:48.582223",
     "status": "completed"
    },
    "tags": []
   },
   "outputs": [
    {
     "data": {
      "text/html": [
       "<div>\n",
       "<style scoped>\n",
       "    .dataframe tbody tr th:only-of-type {\n",
       "        vertical-align: middle;\n",
       "    }\n",
       "\n",
       "    .dataframe tbody tr th {\n",
       "        vertical-align: top;\n",
       "    }\n",
       "\n",
       "    .dataframe thead th {\n",
       "        text-align: right;\n",
       "    }\n",
       "</style>\n",
       "<table border=\"1\" class=\"dataframe\">\n",
       "  <thead>\n",
       "    <tr style=\"text-align: right;\">\n",
       "      <th></th>\n",
       "      <th>turnoverRatio</th>\n",
       "      <th>pe_ttm</th>\n",
       "      <th>pe</th>\n",
       "      <th>pb</th>\n",
       "      <th>ps</th>\n",
       "      <th>pcf</th>\n",
       "      <th>volume_mean</th>\n",
       "      <th>high_max</th>\n",
       "      <th>volume_max</th>\n",
       "      <th>money_min</th>\n",
       "      <th>money_std</th>\n",
       "      <th>volume_var</th>\n",
       "      <th>money_var</th>\n",
       "      <th>price_diff</th>\n",
       "      <th>price_diff_max</th>\n",
       "    </tr>\n",
       "  </thead>\n",
       "  <tbody>\n",
       "    <tr>\n",
       "      <th>0</th>\n",
       "      <td>3.6794</td>\n",
       "      <td>34.4425</td>\n",
       "      <td>32.3029</td>\n",
       "      <td>4.9425</td>\n",
       "      <td>3.8180</td>\n",
       "      <td>-578.7700</td>\n",
       "      <td>454075.84</td>\n",
       "      <td>25.1378</td>\n",
       "      <td>1234546.0</td>\n",
       "      <td>3.079684e+06</td>\n",
       "      <td>6.994818e+06</td>\n",
       "      <td>8.081342e+10</td>\n",
       "      <td>4.892748e+13</td>\n",
       "      <td>0.006510</td>\n",
       "      <td>0.007816</td>\n",
       "    </tr>\n",
       "    <tr>\n",
       "      <th>1</th>\n",
       "      <td>3.2535</td>\n",
       "      <td>33.3198</td>\n",
       "      <td>31.2498</td>\n",
       "      <td>4.7814</td>\n",
       "      <td>3.6935</td>\n",
       "      <td>-559.9031</td>\n",
       "      <td>401517.02</td>\n",
       "      <td>24.5552</td>\n",
       "      <td>853209.0</td>\n",
       "      <td>4.424170e+06</td>\n",
       "      <td>4.393546e+06</td>\n",
       "      <td>3.416397e+10</td>\n",
       "      <td>1.930325e+13</td>\n",
       "      <td>0.004981</td>\n",
       "      <td>0.010720</td>\n",
       "    </tr>\n",
       "    <tr>\n",
       "      <th>2</th>\n",
       "      <td>2.4947</td>\n",
       "      <td>23.3887</td>\n",
       "      <td>23.3887</td>\n",
       "      <td>4.3823</td>\n",
       "      <td>2.9722</td>\n",
       "      <td>-42.8676</td>\n",
       "      <td>307969.24</td>\n",
       "      <td>23.7783</td>\n",
       "      <td>708274.0</td>\n",
       "      <td>2.446717e+06</td>\n",
       "      <td>3.596407e+06</td>\n",
       "      <td>2.322177e+10</td>\n",
       "      <td>1.293414e+13</td>\n",
       "      <td>0.007227</td>\n",
       "      <td>0.007741</td>\n",
       "    </tr>\n",
       "    <tr>\n",
       "      <th>...</th>\n",
       "      <td>...</td>\n",
       "      <td>...</td>\n",
       "      <td>...</td>\n",
       "      <td>...</td>\n",
       "      <td>...</td>\n",
       "      <td>...</td>\n",
       "      <td>...</td>\n",
       "      <td>...</td>\n",
       "      <td>...</td>\n",
       "      <td>...</td>\n",
       "      <td>...</td>\n",
       "      <td>...</td>\n",
       "      <td>...</td>\n",
       "      <td>...</td>\n",
       "      <td>...</td>\n",
       "    </tr>\n",
       "    <tr>\n",
       "      <th>53889</th>\n",
       "      <td>0.8417</td>\n",
       "      <td>10.1469</td>\n",
       "      <td>10.1469</td>\n",
       "      <td>1.9012</td>\n",
       "      <td>0.3880</td>\n",
       "      <td>128.1758</td>\n",
       "      <td>164545.76</td>\n",
       "      <td>9.5162</td>\n",
       "      <td>615056.0</td>\n",
       "      <td>3.817547e+05</td>\n",
       "      <td>1.042889e+06</td>\n",
       "      <td>1.211315e+10</td>\n",
       "      <td>1.087617e+12</td>\n",
       "      <td>0.006528</td>\n",
       "      <td>0.013057</td>\n",
       "    </tr>\n",
       "    <tr>\n",
       "      <th>53890</th>\n",
       "      <td>1.4411</td>\n",
       "      <td>10.4471</td>\n",
       "      <td>10.4471</td>\n",
       "      <td>1.9574</td>\n",
       "      <td>0.3995</td>\n",
       "      <td>131.9680</td>\n",
       "      <td>281720.62</td>\n",
       "      <td>10.1838</td>\n",
       "      <td>2456106.0</td>\n",
       "      <td>3.854252e+05</td>\n",
       "      <td>4.021387e+06</td>\n",
       "      <td>1.643915e+11</td>\n",
       "      <td>1.617155e+13</td>\n",
       "      <td>0.021176</td>\n",
       "      <td>0.032380</td>\n",
       "    </tr>\n",
       "    <tr>\n",
       "      <th>53891</th>\n",
       "      <td>1.2933</td>\n",
       "      <td>10.6513</td>\n",
       "      <td>10.6513</td>\n",
       "      <td>1.9956</td>\n",
       "      <td>0.4073</td>\n",
       "      <td>134.5467</td>\n",
       "      <td>252827.46</td>\n",
       "      <td>9.9896</td>\n",
       "      <td>894193.0</td>\n",
       "      <td>4.971822e+05</td>\n",
       "      <td>1.887090e+06</td>\n",
       "      <td>3.701059e+10</td>\n",
       "      <td>3.561110e+12</td>\n",
       "      <td>0.014920</td>\n",
       "      <td>0.017410</td>\n",
       "    </tr>\n",
       "  </tbody>\n",
       "</table>\n",
       "<p>53892 rows × 15 columns</p>\n",
       "</div>"
      ],
      "text/plain": [
       "       turnoverRatio   pe_ttm       pe      pb      ps       pcf  volume_mean  \\\n",
       "0             3.6794  34.4425  32.3029  4.9425  3.8180 -578.7700    454075.84   \n",
       "1             3.2535  33.3198  31.2498  4.7814  3.6935 -559.9031    401517.02   \n",
       "2             2.4947  23.3887  23.3887  4.3823  2.9722  -42.8676    307969.24   \n",
       "...              ...      ...      ...     ...     ...       ...          ...   \n",
       "53889         0.8417  10.1469  10.1469  1.9012  0.3880  128.1758    164545.76   \n",
       "53890         1.4411  10.4471  10.4471  1.9574  0.3995  131.9680    281720.62   \n",
       "53891         1.2933  10.6513  10.6513  1.9956  0.4073  134.5467    252827.46   \n",
       "\n",
       "       high_max  volume_max     money_min     money_std    volume_var  \\\n",
       "0       25.1378   1234546.0  3.079684e+06  6.994818e+06  8.081342e+10   \n",
       "1       24.5552    853209.0  4.424170e+06  4.393546e+06  3.416397e+10   \n",
       "2       23.7783    708274.0  2.446717e+06  3.596407e+06  2.322177e+10   \n",
       "...         ...         ...           ...           ...           ...   \n",
       "53889    9.5162    615056.0  3.817547e+05  1.042889e+06  1.211315e+10   \n",
       "53890   10.1838   2456106.0  3.854252e+05  4.021387e+06  1.643915e+11   \n",
       "53891    9.9896    894193.0  4.971822e+05  1.887090e+06  3.701059e+10   \n",
       "\n",
       "          money_var  price_diff  price_diff_max  \n",
       "0      4.892748e+13    0.006510        0.007816  \n",
       "1      1.930325e+13    0.004981        0.010720  \n",
       "2      1.293414e+13    0.007227        0.007741  \n",
       "...             ...         ...             ...  \n",
       "53889  1.087617e+12    0.006528        0.013057  \n",
       "53890  1.617155e+13    0.021176        0.032380  \n",
       "53891  3.561110e+12    0.014920        0.017410  \n",
       "\n",
       "[53892 rows x 15 columns]"
      ]
     },
     "execution_count": 11,
     "metadata": {},
     "output_type": "execute_result"
    }
   ],
   "source": [
    "train"
   ]
  },
  {
   "cell_type": "code",
   "execution_count": 12,
   "id": "64439bad",
   "metadata": {
    "execution": {
     "iopub.execute_input": "2023-03-13T11:46:48.631504Z",
     "iopub.status.busy": "2023-03-13T11:46:48.630920Z",
     "iopub.status.idle": "2023-03-13T11:46:48.932216Z",
     "shell.execute_reply": "2023-03-13T11:46:48.930626Z"
    },
    "papermill": {
     "duration": 0.313846,
     "end_time": "2023-03-13T11:46:48.936817",
     "exception": false,
     "start_time": "2023-03-13T11:46:48.622971",
     "status": "completed"
    },
    "tags": []
   },
   "outputs": [],
   "source": [
    "from sklearn.linear_model import Ridge\n",
    "model_list = []\n",
    "for i in [0.012]:\n",
    "    result = None\n",
    "    for stock in range(stock_num):\n",
    "        start = stock * train_day_num\n",
    "        end = start + train_day_num\n",
    "        model = Ridge(alpha=i, normalize=True)\n",
    "        model.fit(train.iloc[stock*train_day_num:(stock+1)*train_day_num, :], train_y.iloc[stock*train_day_num:(stock+1)*train_day_num])\n",
    "        model_list.append(model)\n",
    "        # model_train_y = model.predict(train)\n",
    "#         pred = model.predict(test)\n",
    "#         pred = evaluate2(\n",
    "#             model, \n",
    "#             train.iloc[stock*day_num:(stock+1)*day_num, :], \n",
    "#             test.iloc[stock*test_day_num:(stock+1)*test_day_num, :], \n",
    "#             train_y.iloc[stock*day_num:(stock+1)*day_num], \n",
    "#             real_y.iloc[stock*test_day_num:(stock+1)*test_day_num-2]\n",
    "#             # real_y.iloc[[i for i in range(stock, len(real_y), stock_num)]]\n",
    "#         )\n",
    "#         if result is None:\n",
    "#             result = pred\n",
    "#         else:\n",
    "#             result = np.concatenate([result, pred], axis=0)\n",
    "#     print(i, calc_corr(result, real_y))\n",
    "#     last_cor = calc_corr(result, real_y)"
   ]
  },
  {
   "cell_type": "code",
   "execution_count": 13,
   "id": "6628a809",
   "metadata": {
    "execution": {
     "iopub.execute_input": "2023-03-13T11:46:48.973539Z",
     "iopub.status.busy": "2023-03-13T11:46:48.972843Z",
     "iopub.status.idle": "2023-03-13T11:46:48.985209Z",
     "shell.execute_reply": "2023-03-13T11:46:48.983185Z"
    },
    "papermill": {
     "duration": 0.037711,
     "end_time": "2023-03-13T11:46:48.990682",
     "exception": false,
     "start_time": "2023-03-13T11:46:48.952971",
     "status": "completed"
    },
    "tags": []
   },
   "outputs": [],
   "source": [
    "# from sklearn.linear_model import SGDRegressor\n",
    "# from sklearn.pipeline import make_pipeline\n",
    "# from sklearn.preprocessing import StandardScaler\n",
    "# score_lst = []\n",
    "# reg = make_pipeline(StandardScaler(),SGDRegressor(max_iter=10000, tol=1e-6,penalty='l1',random_state=36400))\n",
    "# reg.fit(train, train_y)"
   ]
  },
  {
   "cell_type": "code",
   "execution_count": 14,
   "id": "7334e889",
   "metadata": {
    "execution": {
     "iopub.execute_input": "2023-03-13T11:46:49.028992Z",
     "iopub.status.busy": "2023-03-13T11:46:49.028238Z",
     "iopub.status.idle": "2023-03-13T11:46:53.082327Z",
     "shell.execute_reply": "2023-03-13T11:46:53.081365Z"
    },
    "papermill": {
     "duration": 4.075681,
     "end_time": "2023-03-13T11:46:53.084732",
     "exception": false,
     "start_time": "2023-03-13T11:46:49.009051",
     "status": "completed"
    },
    "tags": []
   },
   "outputs": [
    {
     "name": "stdout",
     "output_type": "stream",
     "text": [
      "Environment is initialized.\n"
     ]
    }
   ],
   "source": [
    "env = make_env()  # initialize the environment"
   ]
  },
  {
   "cell_type": "code",
   "execution_count": 15,
   "id": "7ab6b3a2",
   "metadata": {
    "execution": {
     "iopub.execute_input": "2023-03-13T11:46:53.099469Z",
     "iopub.status.busy": "2023-03-13T11:46:53.099056Z",
     "iopub.status.idle": "2023-03-13T11:48:49.628725Z",
     "shell.execute_reply": "2023-03-13T11:48:49.627472Z"
    },
    "papermill": {
     "duration": 116.546611,
     "end_time": "2023-03-13T11:48:49.637886",
     "exception": false,
     "start_time": "2023-03-13T11:46:53.091275",
     "status": "completed"
    },
    "tags": []
   },
   "outputs": [
    {
     "name": "stdout",
     "output_type": "stream",
     "text": [
      "Data Feeding is finished.\n"
     ]
    }
   ],
   "source": [
    "# sample code using random number as prediction\n",
    "import random\n",
    "random.seed(42)\n",
    "while not env.is_end():\n",
    "    fundamental_df, market_df = env.get_current_market()  # get correlated dataset\n",
    "    test_combined, test_fun, test_mar, test_na_fun, test_na_mar = preprocess(fundamental_df, market_df)\n",
    "    test = reorder(test_combined)\n",
    "#     test_y = train[\"return\"]\n",
    "    test = test.drop(columns=[\"date_time\",'stock_id','day'])\n",
    "    test = test.drop(columns=abandon_all)\n",
    "#     test.to_csv(\"testing1.csv\")\n",
    "#     print(test)\n",
    "#     test = test.fillna(0)\n",
    "    # make your prediction Y here and replace the following four rows\n",
    "#     l = []\n",
    "#     for idx in range(54):\n",
    "#         l.append(random.random())\n",
    "#     predict_ds = pd.Series(l)\n",
    "    predict_ds = []\n",
    "    for i in range(54):\n",
    "#         predict_ds.append(model_list[i].predict(test.iloc[i]))\n",
    "        predict_ds.append(model_list[i].predict(np.array(test.iloc[i]).reshape(1,-1))[0])\n",
    "    predict_ds = pd.Series(predict_ds)\n",
    "#     predict_ds = pd.Series(reg.predict(test.iloc[:54]))\n",
    "    env.input_prediction(predict_ds)  # upload your predicted Y"
   ]
  },
  {
   "cell_type": "code",
   "execution_count": 16,
   "id": "d4d3f67b",
   "metadata": {
    "execution": {
     "iopub.execute_input": "2023-03-13T11:48:49.653443Z",
     "iopub.status.busy": "2023-03-13T11:48:49.652799Z",
     "iopub.status.idle": "2023-03-13T11:48:49.688184Z",
     "shell.execute_reply": "2023-03-13T11:48:49.686758Z"
    },
    "papermill": {
     "duration": 0.046523,
     "end_time": "2023-03-13T11:48:49.691045",
     "exception": false,
     "start_time": "2023-03-13T11:48:49.644522",
     "status": "completed"
    },
    "tags": []
   },
   "outputs": [
    {
     "name": "stdout",
     "output_type": "stream",
     "text": [
      "      date_time    return\n",
      "0       s0d1001 -0.004134\n",
      "1       s1d1001  0.006290\n",
      "2       s2d1001  0.006909\n",
      "...         ...       ...\n",
      "37797  s51d1700 -0.097585\n",
      "37798  s52d1700 -0.022113\n",
      "37799  s53d1700 -0.022304\n",
      "\n",
      "[37800 rows x 2 columns]\n"
     ]
    }
   ],
   "source": [
    "import pandas as pd\n",
    "print(pd.read_csv('/kaggle/working/submission.csv'))"
   ]
  },
  {
   "cell_type": "code",
   "execution_count": 17,
   "id": "efa6f882",
   "metadata": {
    "execution": {
     "iopub.execute_input": "2023-03-13T11:48:49.706572Z",
     "iopub.status.busy": "2023-03-13T11:48:49.706147Z",
     "iopub.status.idle": "2023-03-13T11:48:49.715050Z",
     "shell.execute_reply": "2023-03-13T11:48:49.713964Z"
    },
    "papermill": {
     "duration": 0.019607,
     "end_time": "2023-03-13T11:48:49.717597",
     "exception": false,
     "start_time": "2023-03-13T11:48:49.697990",
     "status": "completed"
    },
    "tags": []
   },
   "outputs": [
    {
     "data": {
      "text/plain": [
       "array([-0.02230352])"
      ]
     },
     "execution_count": 17,
     "metadata": {},
     "output_type": "execute_result"
    }
   ],
   "source": [
    "model_list[53].predict(np.array(test.iloc[-1]).reshape(1,-1))"
   ]
  },
  {
   "cell_type": "code",
   "execution_count": 18,
   "id": "9da52863",
   "metadata": {
    "execution": {
     "iopub.execute_input": "2023-03-13T11:48:49.733775Z",
     "iopub.status.busy": "2023-03-13T11:48:49.733382Z",
     "iopub.status.idle": "2023-03-13T11:48:49.741499Z",
     "shell.execute_reply": "2023-03-13T11:48:49.740212Z"
    },
    "papermill": {
     "duration": 0.019154,
     "end_time": "2023-03-13T11:48:49.743902",
     "exception": false,
     "start_time": "2023-03-13T11:48:49.724748",
     "status": "completed"
    },
    "tags": []
   },
   "outputs": [
    {
     "data": {
      "text/plain": [
       "array([5.97700000e-01, 1.46032000e+01, 1.77694000e+01, 2.14210000e+00,\n",
       "       3.28800000e-01, 1.33351000e+01, 1.07846000e+05, 1.61435000e+01,\n",
       "       3.23300000e+05, 2.18882126e+05, 1.07527439e+06, 4.50492988e+09,\n",
       "       1.15621501e+12, 8.40865430e-03, 9.17708563e-03])"
      ]
     },
     "execution_count": 18,
     "metadata": {},
     "output_type": "execute_result"
    }
   ],
   "source": [
    "np.array(test.iloc[-1])"
   ]
  },
  {
   "cell_type": "code",
   "execution_count": 19,
   "id": "a0c03f4b",
   "metadata": {
    "execution": {
     "iopub.execute_input": "2023-03-13T11:48:49.760385Z",
     "iopub.status.busy": "2023-03-13T11:48:49.759988Z",
     "iopub.status.idle": "2023-03-13T11:48:50.293233Z",
     "shell.execute_reply": "2023-03-13T11:48:50.292184Z"
    },
    "papermill": {
     "duration": 0.544768,
     "end_time": "2023-03-13T11:48:50.296007",
     "exception": false,
     "start_time": "2023-03-13T11:48:49.751239",
     "status": "completed"
    },
    "tags": []
   },
   "outputs": [],
   "source": [
    "sub = pd.read_csv('/kaggle/working/submission.csv')\n",
    "sub.iloc[54]\n",
    "sub_reorder = []\n",
    "for j in range(54):\n",
    "    for i in range(700):\n",
    "        sub_reorder.append(sub[\"return\"].iloc[54*i+j])\n",
    "\n",
    "final_df = pd.concat([sub[\"date_time\"], pd.DataFrame(sub_reorder, columns=[\"return\"])], axis=1)\n",
    "pd.DataFrame(final_df).to_csv('submission.csv',index=False)"
   ]
  },
  {
   "cell_type": "code",
   "execution_count": 20,
   "id": "fb09df92",
   "metadata": {
    "execution": {
     "iopub.execute_input": "2023-03-13T11:48:50.312318Z",
     "iopub.status.busy": "2023-03-13T11:48:50.311907Z",
     "iopub.status.idle": "2023-03-13T11:48:50.322495Z",
     "shell.execute_reply": "2023-03-13T11:48:50.321128Z"
    },
    "papermill": {
     "duration": 0.022081,
     "end_time": "2023-03-13T11:48:50.325535",
     "exception": false,
     "start_time": "2023-03-13T11:48:50.303454",
     "status": "completed"
    },
    "tags": []
   },
   "outputs": [
    {
     "name": "stdout",
     "output_type": "stream",
     "text": [
      "      date_time    return\n",
      "0       s0d1001 -0.004134\n",
      "1       s1d1001 -0.006559\n",
      "2       s2d1001 -0.004803\n",
      "...         ...       ...\n",
      "37797  s51d1700 -0.027517\n",
      "37798  s52d1700 -0.022505\n",
      "37799  s53d1700 -0.022304\n",
      "\n",
      "[37800 rows x 2 columns]\n"
     ]
    }
   ],
   "source": [
    "print(final_df)"
   ]
  }
 ],
 "metadata": {
  "kernelspec": {
   "display_name": "Python 3",
   "language": "python",
   "name": "python3"
  },
  "language_info": {
   "codemirror_mode": {
    "name": "ipython",
    "version": 3
   },
   "file_extension": ".py",
   "mimetype": "text/x-python",
   "name": "python",
   "nbconvert_exporter": "python",
   "pygments_lexer": "ipython3",
   "version": "3.7.12"
  },
  "papermill": {
   "default_parameters": {},
   "duration": 276.742424,
   "end_time": "2023-03-13T11:48:51.357358",
   "environment_variables": {},
   "exception": null,
   "input_path": "__notebook__.ipynb",
   "output_path": "__notebook__.ipynb",
   "parameters": {},
   "start_time": "2023-03-13T11:44:14.614934",
   "version": "2.3.4"
  }
 },
 "nbformat": 4,
 "nbformat_minor": 5
}
