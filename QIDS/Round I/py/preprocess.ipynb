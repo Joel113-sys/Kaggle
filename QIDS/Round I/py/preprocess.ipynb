{
 "cells": [
  {
   "attachments": {},
   "cell_type": "markdown",
   "metadata": {},
   "source": [
    "# HKU QIDS 2023 Quantitative Investment Competition: Preprocess"
   ]
  },
  {
   "attachments": {},
   "cell_type": "markdown",
   "metadata": {},
   "source": [
    "## Init Config"
   ]
  },
  {
   "cell_type": "code",
   "execution_count": 11,
   "metadata": {},
   "outputs": [],
   "source": [
    "import pandas as pd\n",
    "import copy\n",
    "import warnings\n",
    "\n",
    "from sklearn.preprocessing import StandardScaler\n",
    "from sklearn.model_selection import train_test_split\n",
    "\n",
    "warnings.filterwarnings(\"ignore\")"
   ]
  },
  {
   "cell_type": "code",
   "execution_count": 12,
   "metadata": {},
   "outputs": [],
   "source": [
    "seed = 257248\n",
    "stock_num = 54\n",
    "train_day_num_total = 1000\n",
    "train_day_num = 1000 - 2\n",
    "test_day_num = 700\n",
    "timeslot_num = 50"
   ]
  },
  {
   "cell_type": "code",
   "execution_count": 13,
   "metadata": {},
   "outputs": [],
   "source": [
    "calc_mean = lambda df: df.mean(axis=0)\n",
    "calc_max = lambda df: df.max(axis=0)\n",
    "calc_min = lambda df: df.min(axis=0)\n",
    "calc_std = lambda df: df.std(axis=0)\n",
    "calc_add = lambda df1, df2: df1 + df2\n",
    "calc_diff = lambda df1, df2: df1 - df2\n",
    "calc_prod = lambda df1, df2: df1 * df2\n",
    "calc_div = lambda df1, df2: df1 / df2"
   ]
  },
  {
   "cell_type": "code",
   "execution_count": 14,
   "metadata": {},
   "outputs": [],
   "source": [
    "def preprocess(fun, mar, ret=None):\n",
    "    fun[\"stock_id\"] = fun[\"date_time\"].apply(lambda x: x.split(\"d\")[0][1:]).astype(\"int\")\n",
    "    fun[\"day\"] = fun[\"date_time\"].apply(lambda x: x.split(\"d\")[1][:]).astype(\"int\")\n",
    "    fun = fun.sort_values(by=[\"stock_id\", \"day\"])\n",
    "    na_fun = fun.loc[fun[\"day\"].isin([999, 1000])]\n",
    "    fun = fun.drop(na_fun.index, axis=0).reset_index(drop=True)\n",
    "    na_fun = na_fun.reset_index(drop=True)\n",
    "\n",
    "    mar[\"stock_id\"] = mar[\"date_time\"].apply(lambda x: x.split(\"d\")[0][1:]).astype(\"int\")\n",
    "    mar[\"day\"] = mar[\"date_time\"].apply(lambda x: x.split(\"d\")[1].split(\"p\")[0]).astype(\"int\")\n",
    "    mar[\"time\"] = mar[\"date_time\"].apply(lambda x: x.split(\"p\")[1]).astype(\"int\")\n",
    "    mar = mar.sort_values(by=[\"stock_id\", \"day\", \"time\"]).reset_index(drop=True)\n",
    "    na_mar = mar.loc[mar[\"day\"].isin([999, 1000])]\n",
    "    mar = mar.drop(na_mar.index, axis=0).reset_index(drop=True)\n",
    "    na_mar = na_mar.reset_index(drop=True)\n",
    "\n",
    "    combined = copy.deepcopy(fun)\n",
    "    if ret is not None:\n",
    "        ret[\"stock_id\"] = ret[\"date_time\"].apply(lambda x: x.split(\"d\")[0][1:]).astype(\"int\")\n",
    "        ret[\"day\"] = ret[\"date_time\"].apply(lambda x: x.split(\"d\")[1][:]).astype(\"int\")\n",
    "        ret = ret.sort_values(by=[\"stock_id\", \"day\"]).reset_index(drop=True)\n",
    "        combined[\"return\"] = ret[\"return\"]\n",
    "        day_num = train_day_num\n",
    "    else:\n",
    "        day_num = test_day_num\n",
    "\n",
    "    mar_summary = []\n",
    "    start = 0\n",
    "    for stock in range(stock_num):\n",
    "        end = start + day_num * timeslot_num\n",
    "        stock_info = mar.iloc[start:end, :]\n",
    "        day_start = 0\n",
    "        for day in range(day_num):\n",
    "            day_end = day_start + timeslot_num\n",
    "            stock_info_per_day = stock_info.iloc[day_start:day_end, :]\n",
    "            mar_summary.append([\n",
    "                calc_mean(stock_info_per_day[\"open\"]),\n",
    "                calc_mean(stock_info_per_day[\"close\"]),\n",
    "                calc_mean(stock_info_per_day[\"high\"]),\n",
    "                calc_mean(stock_info_per_day[\"low\"]),\n",
    "                calc_mean(stock_info_per_day[\"volume\"]),\n",
    "                calc_mean(stock_info_per_day[\"money\"]),\n",
    "                calc_max(stock_info_per_day[\"high\"]),\n",
    "                calc_max(stock_info_per_day[\"volume\"]),\n",
    "                calc_max(stock_info_per_day[\"money\"]),\n",
    "                calc_min(stock_info_per_day[\"low\"]),\n",
    "                calc_max(calc_div(calc_diff(stock_info_per_day[\"close\"], stock_info_per_day[\"open\"]), stock_info_per_day[\"open\"])),\n",
    "                calc_max(calc_div(calc_diff(stock_info_per_day[\"high\"], stock_info_per_day[\"low\"]), stock_info_per_day[\"open\"])),\n",
    "            ])\n",
    "            day_start = day_end\n",
    "        start = end\n",
    "    cols = [\n",
    "        \"open_mean\",\n",
    "        \"close_mean\",\n",
    "        \"high_mean\",\n",
    "        \"low_mean\",\n",
    "        \"volume_mean\",\n",
    "        \"money_mean\",\n",
    "        \"high_max\",\n",
    "        \"volume_max\",\n",
    "        \"money_max\",\n",
    "        \"low_min\",\n",
    "        \"price_diff\",\n",
    "        \"price_diff_max\",\n",
    "    ]\n",
    "    mar_summary = pd.DataFrame(mar_summary, columns=cols)\n",
    "    combined = pd.concat([combined, mar_summary], axis=1)\n",
    "\n",
    "    return [combined, fun, mar, na_fun, na_mar, ret] if ret is not None else [combined, fun, mar, na_fun, na_mar]"
   ]
  },
  {
   "cell_type": "code",
   "execution_count": 15,
   "metadata": {},
   "outputs": [],
   "source": [
    "def reorder(df):\n",
    "    df_cols = df.columns\n",
    "    if 'return' not in df_cols:\n",
    "        df_cols_prior = ['date_time', 'stock_id', 'day']\n",
    "    else:\n",
    "        df_cols_prior = ['date_time', 'stock_id', 'day', 'return']\n",
    "    for col in df_cols:\n",
    "        if col not in df_cols_prior:\n",
    "            df_cols_prior.append(col)\n",
    "    if 'return' in df_cols_prior:\n",
    "        df_cols_prior.remove('return')\n",
    "        df_cols_prior.append('return')\n",
    "    return df[df_cols_prior]"
   ]
  },
  {
   "cell_type": "code",
   "execution_count": 16,
   "metadata": {},
   "outputs": [],
   "source": [
    "def train_valid_split(data_set, valid_ratio=0.2, seed=257248):\n",
    "    '''Split provided training data into training set and validation set'''\n",
    "    valid_set_size = int(valid_ratio * len(data_set))\n",
    "    train_set, valid_set = train_test_split(data_set, test_size=valid_set_size, random_state=seed)\n",
    "    return train_set, valid_set"
   ]
  },
  {
   "cell_type": "code",
   "execution_count": 17,
   "metadata": {},
   "outputs": [],
   "source": [
    "def write(df, path):\n",
    "    df.to_csv(path, index=False)"
   ]
  },
  {
   "attachments": {},
   "cell_type": "markdown",
   "metadata": {},
   "source": [
    "## Load Data"
   ]
  },
  {
   "cell_type": "code",
   "execution_count": 18,
   "metadata": {},
   "outputs": [],
   "source": [
    "train_fun = pd.read_csv(\"../data/first_round_train_fundamental_data.csv\")\n",
    "train_mar = pd.read_csv(\"../data/first_round_train_market_data.csv\")\n",
    "train_ret = pd.read_csv(\"../data/first_round_train_return_data.csv\")"
   ]
  },
  {
   "cell_type": "code",
   "execution_count": 19,
   "metadata": {},
   "outputs": [],
   "source": [
    "test_fun = pd.read_csv(\"./qids_package/first_round_test_fundamental_data.csv\")\n",
    "test_mar = pd.read_csv(\"./qids_package/first_round_test_market_data.csv\")"
   ]
  },
  {
   "attachments": {},
   "cell_type": "markdown",
   "metadata": {},
   "source": [
    "## Rearrange data by different stocks"
   ]
  },
  {
   "cell_type": "code",
   "execution_count": 20,
   "metadata": {},
   "outputs": [
    {
     "ename": "KeyError",
     "evalue": "'date_time'",
     "output_type": "error",
     "traceback": [
      "\u001b[0;31m---------------------------------------------------------------------------\u001b[0m",
      "\u001b[0;31mKeyError\u001b[0m                                  Traceback (most recent call last)",
      "File \u001b[0;32m~/opt/anaconda3/lib/python3.9/site-packages/pandas/core/indexes/base.py:3621\u001b[0m, in \u001b[0;36mIndex.get_loc\u001b[0;34m(self, key, method, tolerance)\u001b[0m\n\u001b[1;32m   3620\u001b[0m \u001b[39mtry\u001b[39;00m:\n\u001b[0;32m-> 3621\u001b[0m     \u001b[39mreturn\u001b[39;00m \u001b[39mself\u001b[39;49m\u001b[39m.\u001b[39;49m_engine\u001b[39m.\u001b[39;49mget_loc(casted_key)\n\u001b[1;32m   3622\u001b[0m \u001b[39mexcept\u001b[39;00m \u001b[39mKeyError\u001b[39;00m \u001b[39mas\u001b[39;00m err:\n",
      "File \u001b[0;32m~/opt/anaconda3/lib/python3.9/site-packages/pandas/_libs/index.pyx:136\u001b[0m, in \u001b[0;36mpandas._libs.index.IndexEngine.get_loc\u001b[0;34m()\u001b[0m\n",
      "File \u001b[0;32m~/opt/anaconda3/lib/python3.9/site-packages/pandas/_libs/index.pyx:163\u001b[0m, in \u001b[0;36mpandas._libs.index.IndexEngine.get_loc\u001b[0;34m()\u001b[0m\n",
      "File \u001b[0;32mpandas/_libs/hashtable_class_helper.pxi:5198\u001b[0m, in \u001b[0;36mpandas._libs.hashtable.PyObjectHashTable.get_item\u001b[0;34m()\u001b[0m\n",
      "File \u001b[0;32mpandas/_libs/hashtable_class_helper.pxi:5206\u001b[0m, in \u001b[0;36mpandas._libs.hashtable.PyObjectHashTable.get_item\u001b[0;34m()\u001b[0m\n",
      "\u001b[0;31mKeyError\u001b[0m: 'date_time'",
      "\nThe above exception was the direct cause of the following exception:\n",
      "\u001b[0;31mKeyError\u001b[0m                                  Traceback (most recent call last)",
      "\u001b[1;32m/Users/joellau/Desktop/20230206_HKUQIDS/py/preprocess.ipynb Cell 14\u001b[0m in \u001b[0;36m<cell line: 1>\u001b[0;34m()\u001b[0m\n\u001b[0;32m----> <a href='vscode-notebook-cell:/Users/joellau/Desktop/20230206_HKUQIDS/py/preprocess.ipynb#X16sZmlsZQ%3D%3D?line=0'>1</a>\u001b[0m train_combined, train_fun, train_mar, train_na_fun, train_na_mar, train_ret \u001b[39m=\u001b[39m preprocess(train_fun, train_mar, train_ret)\n",
      "\u001b[1;32m/Users/joellau/Desktop/20230206_HKUQIDS/py/preprocess.ipynb Cell 14\u001b[0m in \u001b[0;36mpreprocess\u001b[0;34m(fun, mar, ret)\u001b[0m\n\u001b[1;32m      <a href='vscode-notebook-cell:/Users/joellau/Desktop/20230206_HKUQIDS/py/preprocess.ipynb#X16sZmlsZQ%3D%3D?line=5'>6</a>\u001b[0m fun \u001b[39m=\u001b[39m fun\u001b[39m.\u001b[39mdrop(na_fun\u001b[39m.\u001b[39mindex, axis\u001b[39m=\u001b[39m\u001b[39m0\u001b[39m)\u001b[39m.\u001b[39mreset_index(drop\u001b[39m=\u001b[39m\u001b[39mTrue\u001b[39;00m)\n\u001b[1;32m      <a href='vscode-notebook-cell:/Users/joellau/Desktop/20230206_HKUQIDS/py/preprocess.ipynb#X16sZmlsZQ%3D%3D?line=6'>7</a>\u001b[0m na_fun \u001b[39m=\u001b[39m na_fun\u001b[39m.\u001b[39mreset_index(drop\u001b[39m=\u001b[39m\u001b[39mTrue\u001b[39;00m)\n\u001b[0;32m----> <a href='vscode-notebook-cell:/Users/joellau/Desktop/20230206_HKUQIDS/py/preprocess.ipynb#X16sZmlsZQ%3D%3D?line=8'>9</a>\u001b[0m mar[\u001b[39m\"\u001b[39m\u001b[39mstock_id\u001b[39m\u001b[39m\"\u001b[39m] \u001b[39m=\u001b[39m mar[\u001b[39m\"\u001b[39;49m\u001b[39mdate_time\u001b[39;49m\u001b[39m\"\u001b[39;49m]\u001b[39m.\u001b[39mapply(\u001b[39mlambda\u001b[39;00m x: x\u001b[39m.\u001b[39msplit(\u001b[39m\"\u001b[39m\u001b[39md\u001b[39m\u001b[39m\"\u001b[39m)[\u001b[39m0\u001b[39m][\u001b[39m1\u001b[39m:])\u001b[39m.\u001b[39mastype(\u001b[39m\"\u001b[39m\u001b[39mint\u001b[39m\u001b[39m\"\u001b[39m)\n\u001b[1;32m     <a href='vscode-notebook-cell:/Users/joellau/Desktop/20230206_HKUQIDS/py/preprocess.ipynb#X16sZmlsZQ%3D%3D?line=9'>10</a>\u001b[0m mar[\u001b[39m\"\u001b[39m\u001b[39mday\u001b[39m\u001b[39m\"\u001b[39m] \u001b[39m=\u001b[39m mar[\u001b[39m\"\u001b[39m\u001b[39mdate_time\u001b[39m\u001b[39m\"\u001b[39m]\u001b[39m.\u001b[39mapply(\u001b[39mlambda\u001b[39;00m x: x\u001b[39m.\u001b[39msplit(\u001b[39m\"\u001b[39m\u001b[39md\u001b[39m\u001b[39m\"\u001b[39m)[\u001b[39m1\u001b[39m]\u001b[39m.\u001b[39msplit(\u001b[39m\"\u001b[39m\u001b[39mp\u001b[39m\u001b[39m\"\u001b[39m)[\u001b[39m0\u001b[39m])\u001b[39m.\u001b[39mastype(\u001b[39m\"\u001b[39m\u001b[39mint\u001b[39m\u001b[39m\"\u001b[39m)\n\u001b[1;32m     <a href='vscode-notebook-cell:/Users/joellau/Desktop/20230206_HKUQIDS/py/preprocess.ipynb#X16sZmlsZQ%3D%3D?line=10'>11</a>\u001b[0m mar[\u001b[39m\"\u001b[39m\u001b[39mtime\u001b[39m\u001b[39m\"\u001b[39m] \u001b[39m=\u001b[39m mar[\u001b[39m\"\u001b[39m\u001b[39mdate_time\u001b[39m\u001b[39m\"\u001b[39m]\u001b[39m.\u001b[39mapply(\u001b[39mlambda\u001b[39;00m x: x\u001b[39m.\u001b[39msplit(\u001b[39m\"\u001b[39m\u001b[39mp\u001b[39m\u001b[39m\"\u001b[39m)[\u001b[39m1\u001b[39m])\u001b[39m.\u001b[39mastype(\u001b[39m\"\u001b[39m\u001b[39mint\u001b[39m\u001b[39m\"\u001b[39m)\n",
      "File \u001b[0;32m~/opt/anaconda3/lib/python3.9/site-packages/pandas/core/frame.py:3505\u001b[0m, in \u001b[0;36mDataFrame.__getitem__\u001b[0;34m(self, key)\u001b[0m\n\u001b[1;32m   3503\u001b[0m \u001b[39mif\u001b[39;00m \u001b[39mself\u001b[39m\u001b[39m.\u001b[39mcolumns\u001b[39m.\u001b[39mnlevels \u001b[39m>\u001b[39m \u001b[39m1\u001b[39m:\n\u001b[1;32m   3504\u001b[0m     \u001b[39mreturn\u001b[39;00m \u001b[39mself\u001b[39m\u001b[39m.\u001b[39m_getitem_multilevel(key)\n\u001b[0;32m-> 3505\u001b[0m indexer \u001b[39m=\u001b[39m \u001b[39mself\u001b[39;49m\u001b[39m.\u001b[39;49mcolumns\u001b[39m.\u001b[39;49mget_loc(key)\n\u001b[1;32m   3506\u001b[0m \u001b[39mif\u001b[39;00m is_integer(indexer):\n\u001b[1;32m   3507\u001b[0m     indexer \u001b[39m=\u001b[39m [indexer]\n",
      "File \u001b[0;32m~/opt/anaconda3/lib/python3.9/site-packages/pandas/core/indexes/base.py:3623\u001b[0m, in \u001b[0;36mIndex.get_loc\u001b[0;34m(self, key, method, tolerance)\u001b[0m\n\u001b[1;32m   3621\u001b[0m     \u001b[39mreturn\u001b[39;00m \u001b[39mself\u001b[39m\u001b[39m.\u001b[39m_engine\u001b[39m.\u001b[39mget_loc(casted_key)\n\u001b[1;32m   3622\u001b[0m \u001b[39mexcept\u001b[39;00m \u001b[39mKeyError\u001b[39;00m \u001b[39mas\u001b[39;00m err:\n\u001b[0;32m-> 3623\u001b[0m     \u001b[39mraise\u001b[39;00m \u001b[39mKeyError\u001b[39;00m(key) \u001b[39mfrom\u001b[39;00m \u001b[39merr\u001b[39;00m\n\u001b[1;32m   3624\u001b[0m \u001b[39mexcept\u001b[39;00m \u001b[39mTypeError\u001b[39;00m:\n\u001b[1;32m   3625\u001b[0m     \u001b[39m# If we have a listlike key, _check_indexing_error will raise\u001b[39;00m\n\u001b[1;32m   3626\u001b[0m     \u001b[39m#  InvalidIndexError. Otherwise we fall through and re-raise\u001b[39;00m\n\u001b[1;32m   3627\u001b[0m     \u001b[39m#  the TypeError.\u001b[39;00m\n\u001b[1;32m   3628\u001b[0m     \u001b[39mself\u001b[39m\u001b[39m.\u001b[39m_check_indexing_error(key)\n",
      "\u001b[0;31mKeyError\u001b[0m: 'date_time'"
     ]
    }
   ],
   "source": [
    "train_combined, train_fun, train_mar, train_na_fun, train_na_mar, train_ret = preprocess(train_fun, train_mar, train_ret)"
   ]
  },
  {
   "cell_type": "code",
   "execution_count": 21,
   "metadata": {},
   "outputs": [
    {
     "ename": "KeyError",
     "evalue": "'date_time'",
     "output_type": "error",
     "traceback": [
      "\u001b[0;31m---------------------------------------------------------------------------\u001b[0m",
      "\u001b[0;31mKeyError\u001b[0m                                  Traceback (most recent call last)",
      "File \u001b[0;32m~/opt/anaconda3/lib/python3.9/site-packages/pandas/core/indexes/base.py:3621\u001b[0m, in \u001b[0;36mIndex.get_loc\u001b[0;34m(self, key, method, tolerance)\u001b[0m\n\u001b[1;32m   3620\u001b[0m \u001b[39mtry\u001b[39;00m:\n\u001b[0;32m-> 3621\u001b[0m     \u001b[39mreturn\u001b[39;00m \u001b[39mself\u001b[39;49m\u001b[39m.\u001b[39;49m_engine\u001b[39m.\u001b[39;49mget_loc(casted_key)\n\u001b[1;32m   3622\u001b[0m \u001b[39mexcept\u001b[39;00m \u001b[39mKeyError\u001b[39;00m \u001b[39mas\u001b[39;00m err:\n",
      "File \u001b[0;32m~/opt/anaconda3/lib/python3.9/site-packages/pandas/_libs/index.pyx:136\u001b[0m, in \u001b[0;36mpandas._libs.index.IndexEngine.get_loc\u001b[0;34m()\u001b[0m\n",
      "File \u001b[0;32m~/opt/anaconda3/lib/python3.9/site-packages/pandas/_libs/index.pyx:163\u001b[0m, in \u001b[0;36mpandas._libs.index.IndexEngine.get_loc\u001b[0;34m()\u001b[0m\n",
      "File \u001b[0;32mpandas/_libs/hashtable_class_helper.pxi:5198\u001b[0m, in \u001b[0;36mpandas._libs.hashtable.PyObjectHashTable.get_item\u001b[0;34m()\u001b[0m\n",
      "File \u001b[0;32mpandas/_libs/hashtable_class_helper.pxi:5206\u001b[0m, in \u001b[0;36mpandas._libs.hashtable.PyObjectHashTable.get_item\u001b[0;34m()\u001b[0m\n",
      "\u001b[0;31mKeyError\u001b[0m: 'date_time'",
      "\nThe above exception was the direct cause of the following exception:\n",
      "\u001b[0;31mKeyError\u001b[0m                                  Traceback (most recent call last)",
      "\u001b[1;32m/Users/joellau/Desktop/20230206_HKUQIDS/py/preprocess.ipynb Cell 15\u001b[0m in \u001b[0;36m<cell line: 1>\u001b[0;34m()\u001b[0m\n\u001b[0;32m----> <a href='vscode-notebook-cell:/Users/joellau/Desktop/20230206_HKUQIDS/py/preprocess.ipynb#X20sZmlsZQ%3D%3D?line=0'>1</a>\u001b[0m test_combined, test_fun, test_mar, test_na_fun, test_na_mar \u001b[39m=\u001b[39m preprocess(test_fun, test_mar)\n",
      "\u001b[1;32m/Users/joellau/Desktop/20230206_HKUQIDS/py/preprocess.ipynb Cell 15\u001b[0m in \u001b[0;36mpreprocess\u001b[0;34m(fun, mar, ret)\u001b[0m\n\u001b[1;32m      <a href='vscode-notebook-cell:/Users/joellau/Desktop/20230206_HKUQIDS/py/preprocess.ipynb#X20sZmlsZQ%3D%3D?line=5'>6</a>\u001b[0m fun \u001b[39m=\u001b[39m fun\u001b[39m.\u001b[39mdrop(na_fun\u001b[39m.\u001b[39mindex, axis\u001b[39m=\u001b[39m\u001b[39m0\u001b[39m)\u001b[39m.\u001b[39mreset_index(drop\u001b[39m=\u001b[39m\u001b[39mTrue\u001b[39;00m)\n\u001b[1;32m      <a href='vscode-notebook-cell:/Users/joellau/Desktop/20230206_HKUQIDS/py/preprocess.ipynb#X20sZmlsZQ%3D%3D?line=6'>7</a>\u001b[0m na_fun \u001b[39m=\u001b[39m na_fun\u001b[39m.\u001b[39mreset_index(drop\u001b[39m=\u001b[39m\u001b[39mTrue\u001b[39;00m)\n\u001b[0;32m----> <a href='vscode-notebook-cell:/Users/joellau/Desktop/20230206_HKUQIDS/py/preprocess.ipynb#X20sZmlsZQ%3D%3D?line=8'>9</a>\u001b[0m mar[\u001b[39m\"\u001b[39m\u001b[39mstock_id\u001b[39m\u001b[39m\"\u001b[39m] \u001b[39m=\u001b[39m mar[\u001b[39m\"\u001b[39;49m\u001b[39mdate_time\u001b[39;49m\u001b[39m\"\u001b[39;49m]\u001b[39m.\u001b[39mapply(\u001b[39mlambda\u001b[39;00m x: x\u001b[39m.\u001b[39msplit(\u001b[39m\"\u001b[39m\u001b[39md\u001b[39m\u001b[39m\"\u001b[39m)[\u001b[39m0\u001b[39m][\u001b[39m1\u001b[39m:])\u001b[39m.\u001b[39mastype(\u001b[39m\"\u001b[39m\u001b[39mint\u001b[39m\u001b[39m\"\u001b[39m)\n\u001b[1;32m     <a href='vscode-notebook-cell:/Users/joellau/Desktop/20230206_HKUQIDS/py/preprocess.ipynb#X20sZmlsZQ%3D%3D?line=9'>10</a>\u001b[0m mar[\u001b[39m\"\u001b[39m\u001b[39mday\u001b[39m\u001b[39m\"\u001b[39m] \u001b[39m=\u001b[39m mar[\u001b[39m\"\u001b[39m\u001b[39mdate_time\u001b[39m\u001b[39m\"\u001b[39m]\u001b[39m.\u001b[39mapply(\u001b[39mlambda\u001b[39;00m x: x\u001b[39m.\u001b[39msplit(\u001b[39m\"\u001b[39m\u001b[39md\u001b[39m\u001b[39m\"\u001b[39m)[\u001b[39m1\u001b[39m]\u001b[39m.\u001b[39msplit(\u001b[39m\"\u001b[39m\u001b[39mp\u001b[39m\u001b[39m\"\u001b[39m)[\u001b[39m0\u001b[39m])\u001b[39m.\u001b[39mastype(\u001b[39m\"\u001b[39m\u001b[39mint\u001b[39m\u001b[39m\"\u001b[39m)\n\u001b[1;32m     <a href='vscode-notebook-cell:/Users/joellau/Desktop/20230206_HKUQIDS/py/preprocess.ipynb#X20sZmlsZQ%3D%3D?line=10'>11</a>\u001b[0m mar[\u001b[39m\"\u001b[39m\u001b[39mtime\u001b[39m\u001b[39m\"\u001b[39m] \u001b[39m=\u001b[39m mar[\u001b[39m\"\u001b[39m\u001b[39mdate_time\u001b[39m\u001b[39m\"\u001b[39m]\u001b[39m.\u001b[39mapply(\u001b[39mlambda\u001b[39;00m x: x\u001b[39m.\u001b[39msplit(\u001b[39m\"\u001b[39m\u001b[39mp\u001b[39m\u001b[39m\"\u001b[39m)[\u001b[39m1\u001b[39m])\u001b[39m.\u001b[39mastype(\u001b[39m\"\u001b[39m\u001b[39mint\u001b[39m\u001b[39m\"\u001b[39m)\n",
      "File \u001b[0;32m~/opt/anaconda3/lib/python3.9/site-packages/pandas/core/frame.py:3505\u001b[0m, in \u001b[0;36mDataFrame.__getitem__\u001b[0;34m(self, key)\u001b[0m\n\u001b[1;32m   3503\u001b[0m \u001b[39mif\u001b[39;00m \u001b[39mself\u001b[39m\u001b[39m.\u001b[39mcolumns\u001b[39m.\u001b[39mnlevels \u001b[39m>\u001b[39m \u001b[39m1\u001b[39m:\n\u001b[1;32m   3504\u001b[0m     \u001b[39mreturn\u001b[39;00m \u001b[39mself\u001b[39m\u001b[39m.\u001b[39m_getitem_multilevel(key)\n\u001b[0;32m-> 3505\u001b[0m indexer \u001b[39m=\u001b[39m \u001b[39mself\u001b[39;49m\u001b[39m.\u001b[39;49mcolumns\u001b[39m.\u001b[39;49mget_loc(key)\n\u001b[1;32m   3506\u001b[0m \u001b[39mif\u001b[39;00m is_integer(indexer):\n\u001b[1;32m   3507\u001b[0m     indexer \u001b[39m=\u001b[39m [indexer]\n",
      "File \u001b[0;32m~/opt/anaconda3/lib/python3.9/site-packages/pandas/core/indexes/base.py:3623\u001b[0m, in \u001b[0;36mIndex.get_loc\u001b[0;34m(self, key, method, tolerance)\u001b[0m\n\u001b[1;32m   3621\u001b[0m     \u001b[39mreturn\u001b[39;00m \u001b[39mself\u001b[39m\u001b[39m.\u001b[39m_engine\u001b[39m.\u001b[39mget_loc(casted_key)\n\u001b[1;32m   3622\u001b[0m \u001b[39mexcept\u001b[39;00m \u001b[39mKeyError\u001b[39;00m \u001b[39mas\u001b[39;00m err:\n\u001b[0;32m-> 3623\u001b[0m     \u001b[39mraise\u001b[39;00m \u001b[39mKeyError\u001b[39;00m(key) \u001b[39mfrom\u001b[39;00m \u001b[39merr\u001b[39;00m\n\u001b[1;32m   3624\u001b[0m \u001b[39mexcept\u001b[39;00m \u001b[39mTypeError\u001b[39;00m:\n\u001b[1;32m   3625\u001b[0m     \u001b[39m# If we have a listlike key, _check_indexing_error will raise\u001b[39;00m\n\u001b[1;32m   3626\u001b[0m     \u001b[39m#  InvalidIndexError. Otherwise we fall through and re-raise\u001b[39;00m\n\u001b[1;32m   3627\u001b[0m     \u001b[39m#  the TypeError.\u001b[39;00m\n\u001b[1;32m   3628\u001b[0m     \u001b[39mself\u001b[39m\u001b[39m.\u001b[39m_check_indexing_error(key)\n",
      "\u001b[0;31mKeyError\u001b[0m: 'date_time'"
     ]
    }
   ],
   "source": [
    "test_combined, test_fun, test_mar, test_na_fun, test_na_mar = preprocess(test_fun, test_mar)"
   ]
  },
  {
   "attachments": {},
   "cell_type": "markdown",
   "metadata": {},
   "source": [
    "## Reorder columns"
   ]
  },
  {
   "cell_type": "code",
   "execution_count": 97,
   "metadata": {},
   "outputs": [],
   "source": [
    "train = reorder(train_combined)\n",
    "test = reorder(test_combined)"
   ]
  },
  {
   "attachments": {},
   "cell_type": "markdown",
   "metadata": {},
   "source": [
    "## Split dataset"
   ]
  },
  {
   "cell_type": "code",
   "execution_count": 98,
   "metadata": {},
   "outputs": [],
   "source": [
    "train, valid = train_valid_split(train)\n",
    "train = train.reset_index(drop=True)\n",
    "valid = valid.reset_index(drop=True)"
   ]
  },
  {
   "attachments": {},
   "cell_type": "markdown",
   "metadata": {},
   "source": [
    "## Write Files"
   ]
  },
  {
   "cell_type": "code",
   "execution_count": 100,
   "metadata": {},
   "outputs": [],
   "source": [
    "write_path = \"../data/\"\n",
    "\n",
    "train_path = write_path + \"train.csv\"\n",
    "write(train, train_path)\n",
    "\n",
    "valid_path = write_path + \"valid.csv\"\n",
    "write(valid, valid_path)\n",
    "\n",
    "test_path = write_path + \"test.csv\"\n",
    "write(test, test_path)"
   ]
  }
 ],
 "metadata": {
  "kernelspec": {
   "display_name": "base",
   "language": "python",
   "name": "python3"
  },
  "language_info": {
   "codemirror_mode": {
    "name": "ipython",
    "version": 3
   },
   "file_extension": ".py",
   "mimetype": "text/x-python",
   "name": "python",
   "nbconvert_exporter": "python",
   "pygments_lexer": "ipython3",
   "version": "3.9.12"
  },
  "orig_nbformat": 4
 },
 "nbformat": 4,
 "nbformat_minor": 2
}
