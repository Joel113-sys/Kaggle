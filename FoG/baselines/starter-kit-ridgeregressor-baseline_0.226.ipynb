{
 "cells": [
  {
   "cell_type": "code",
   "execution_count": 1,
   "id": "9292e78f",
   "metadata": {
    "_cell_guid": "b1076dfc-b9ad-4769-8c92-a6c4dae69d19",
    "_uuid": "8f2839f25d086af736a60e9eeb907d3b93b6e0e5",
    "execution": {
     "iopub.execute_input": "2023-03-17T13:05:12.035176Z",
     "iopub.status.busy": "2023-03-17T13:05:12.034664Z",
     "iopub.status.idle": "2023-03-17T13:05:13.230602Z",
     "shell.execute_reply": "2023-03-17T13:05:13.229665Z"
    },
    "papermill": {
     "duration": 1.211194,
     "end_time": "2023-03-17T13:05:13.233477",
     "exception": false,
     "start_time": "2023-03-17T13:05:12.022283",
     "status": "completed"
    },
    "tags": []
   },
   "outputs": [],
   "source": [
    "import os, gc\n",
    "import numpy as np\n",
    "import pandas as pd\n",
    "from collections import deque\n",
    "from sklearn.linear_model import Ridge, LinearRegression\n",
    "from sklearn.cluster import MiniBatchKMeans\n",
    "from sklearn.decomposition import TruncatedSVD\n",
    "from sklearn.model_selection import StratifiedKFold, GroupKFold\n",
    "from sklearn.metrics import average_precision_score"
   ]
  },
  {
   "cell_type": "markdown",
   "id": "ae7d6642",
   "metadata": {
    "papermill": {
     "duration": 0.008598,
     "end_time": "2023-03-17T13:05:13.251516",
     "exception": false,
     "start_time": "2023-03-17T13:05:13.242918",
     "status": "completed"
    },
    "tags": []
   },
   "source": [
    "## listup all data"
   ]
  },
  {
   "cell_type": "code",
   "execution_count": 2,
   "id": "e3dee739",
   "metadata": {
    "execution": {
     "iopub.execute_input": "2023-03-17T13:05:13.271606Z",
     "iopub.status.busy": "2023-03-17T13:05:13.271168Z",
     "iopub.status.idle": "2023-03-17T13:05:13.364333Z",
     "shell.execute_reply": "2023-03-17T13:05:13.363104Z"
    },
    "papermill": {
     "duration": 0.106811,
     "end_time": "2023-03-17T13:05:13.367176",
     "exception": false,
     "start_time": "2023-03-17T13:05:13.260365",
     "status": "completed"
    },
    "tags": []
   },
   "outputs": [],
   "source": [
    "train_defog = os.listdir(\"/kaggle/input/tlvmc-parkinsons-freezing-gait-prediction/train/defog\")\n",
    "test_defog = os.listdir(\"/kaggle/input/tlvmc-parkinsons-freezing-gait-prediction/test/defog\")\n",
    "train_tdcsfog = os.listdir(\"/kaggle/input/tlvmc-parkinsons-freezing-gait-prediction/train/tdcsfog\")\n",
    "test_tdcsfog = os.listdir(\"/kaggle/input/tlvmc-parkinsons-freezing-gait-prediction/test/tdcsfog\")"
   ]
  },
  {
   "cell_type": "markdown",
   "id": "a75038fb",
   "metadata": {
    "papermill": {
     "duration": 0.010237,
     "end_time": "2023-03-17T13:05:13.386683",
     "exception": false,
     "start_time": "2023-03-17T13:05:13.376446",
     "status": "completed"
    },
    "tags": []
   },
   "source": [
    "There are no duplicate users collected on the learning side"
   ]
  },
  {
   "cell_type": "code",
   "execution_count": 3,
   "id": "7cca1c05",
   "metadata": {
    "execution": {
     "iopub.execute_input": "2023-03-17T13:05:13.406708Z",
     "iopub.status.busy": "2023-03-17T13:05:13.406289Z",
     "iopub.status.idle": "2023-03-17T13:05:13.413675Z",
     "shell.execute_reply": "2023-03-17T13:05:13.412838Z"
    },
    "papermill": {
     "duration": 0.020912,
     "end_time": "2023-03-17T13:05:13.416674",
     "exception": false,
     "start_time": "2023-03-17T13:05:13.395762",
     "status": "completed"
    },
    "tags": []
   },
   "outputs": [
    {
     "data": {
      "text/plain": [
       "set()"
      ]
     },
     "execution_count": 3,
     "metadata": {},
     "output_type": "execute_result"
    }
   ],
   "source": [
    "set(train_defog) & set(train_tdcsfog)"
   ]
  },
  {
   "cell_type": "markdown",
   "id": "a493c630",
   "metadata": {
    "papermill": {
     "duration": 0.009987,
     "end_time": "2023-03-17T13:05:13.435879",
     "exception": false,
     "start_time": "2023-03-17T13:05:13.425892",
     "status": "completed"
    },
    "tags": []
   },
   "source": [
    "Don't know the test side, so just in case I put in the process"
   ]
  },
  {
   "cell_type": "code",
   "execution_count": 4,
   "id": "353b9208",
   "metadata": {
    "execution": {
     "iopub.execute_input": "2023-03-17T13:05:13.461407Z",
     "iopub.status.busy": "2023-03-17T13:05:13.460191Z",
     "iopub.status.idle": "2023-03-17T13:05:13.468061Z",
     "shell.execute_reply": "2023-03-17T13:05:13.466487Z"
    },
    "papermill": {
     "duration": 0.022834,
     "end_time": "2023-03-17T13:05:13.470553",
     "exception": false,
     "start_time": "2023-03-17T13:05:13.447719",
     "status": "completed"
    },
    "tags": []
   },
   "outputs": [],
   "source": [
    "if len(set(test_defog) & set(test_tdcsfog)) > 0: # is there?\n",
    "    test_tdcsfog = list(set(test_tdcsfog) - (set(test_defog) & set(test_tdcsfog)))"
   ]
  },
  {
   "cell_type": "markdown",
   "id": "fab17dc1",
   "metadata": {
    "papermill": {
     "duration": 0.016636,
     "end_time": "2023-03-17T13:05:13.501688",
     "exception": false,
     "start_time": "2023-03-17T13:05:13.485052",
     "status": "completed"
    },
    "tags": []
   },
   "source": [
    "## Pre-Feature Engineering Learning Columns and Targets"
   ]
  },
  {
   "cell_type": "code",
   "execution_count": 5,
   "id": "afccade0",
   "metadata": {
    "execution": {
     "iopub.execute_input": "2023-03-17T13:05:13.532066Z",
     "iopub.status.busy": "2023-03-17T13:05:13.531217Z",
     "iopub.status.idle": "2023-03-17T13:05:13.537117Z",
     "shell.execute_reply": "2023-03-17T13:05:13.536199Z"
    },
    "papermill": {
     "duration": 0.026074,
     "end_time": "2023-03-17T13:05:13.539350",
     "exception": false,
     "start_time": "2023-03-17T13:05:13.513276",
     "status": "completed"
    },
    "tags": []
   },
   "outputs": [],
   "source": [
    "target_cols = [\"StartHesitation\",\"Turn\",\"Walking\"]\n",
    "train_cols = [\"Time\",\"AccV\",\"AccML\",\"AccAP\"]"
   ]
  },
  {
   "cell_type": "markdown",
   "id": "c144da32",
   "metadata": {
    "papermill": {
     "duration": 0.008878,
     "end_time": "2023-03-17T13:05:13.557712",
     "exception": false,
     "start_time": "2023-03-17T13:05:13.548834",
     "status": "completed"
    },
    "tags": []
   },
   "source": [
    "## Feature Engineering\n",
    "\n",
    "function to increase learning columns"
   ]
  },
  {
   "cell_type": "code",
   "execution_count": 6,
   "id": "d4ea7e98",
   "metadata": {
    "execution": {
     "iopub.execute_input": "2023-03-17T13:05:13.578563Z",
     "iopub.status.busy": "2023-03-17T13:05:13.577431Z",
     "iopub.status.idle": "2023-03-17T13:05:13.603083Z",
     "shell.execute_reply": "2023-03-17T13:05:13.601966Z"
    },
    "papermill": {
     "duration": 0.038739,
     "end_time": "2023-03-17T13:05:13.605638",
     "exception": false,
     "start_time": "2023-03-17T13:05:13.566899",
     "status": "completed"
    },
    "tags": []
   },
   "outputs": [],
   "source": [
    "def feature_engineering(val, clfs, target=None):\n",
    "    # Cluster and Dimensional mapping analysis for each data\n",
    "    if clfs[0] is None:\n",
    "        clfs[0] = MiniBatchKMeans(n_clusters=10, random_state=0, init=\"random\").fit(val[:,1:])\n",
    "    km = clfs[0].predict(val[:,1:])\n",
    "    km_oh = np.zeros((val.shape[0],10), dtype=np.uint8) # discrete value change to One-hot\n",
    "    for i in range(10):\n",
    "        idx = np.where(km==0)[0]\n",
    "        km_oh[idx,i] = 1\n",
    "    if clfs[1] is None:\n",
    "        clfs[1] = TruncatedSVD(n_components=2, n_iter=10, random_state=0).fit(val[:,1:])\n",
    "    svd = clfs[1].transform(val[:,1:])\n",
    "    # Per-user statistics\n",
    "    cp = 0\n",
    "    sp = 0\n",
    "    usrm = np.zeros((val.shape[0], 5*val.shape[1]-5), dtype=np.float16)\n",
    "    for i in range(val.shape[0]):\n",
    "        if cp > val[i,0]:\n",
    "            for t in range(val.shape[1]-1):\n",
    "                usrm[sp:i,5*t] = np.mean(val[sp:i,t+1])\n",
    "                usrm[sp:i,5*t+1] = np.std(val[sp:i,t+1])\n",
    "                usrm[sp:i,5*t+2] = np.max(val[sp:i,t+1])\n",
    "                usrm[sp:i,5*t+3] = np.min(val[sp:i,t+1])\n",
    "                usrm[sp:i,5*t+4] = (i-sp)/val.shape[0]\n",
    "            sp = i\n",
    "        cp = val[i,0]\n",
    "    for t in range(val.shape[1]-1):\n",
    "        usrm[sp:,5*t] = np.mean(val[sp:,t+1])\n",
    "        usrm[sp:,5*t+1] = np.std(val[sp:,t+1])\n",
    "        usrm[sp:,5*t+2] = np.max(val[sp:,t+1])\n",
    "        usrm[sp:,5*t+3] = np.min(val[sp:,t+1])\n",
    "        usrm[sp:,5*t+4] = (val.shape[0]-sp)/val.shape[0]\n",
    "    # Cluster and Dimensional mapping analysis for each user\n",
    "    if clfs[2] is None:\n",
    "        clfs[2] = MiniBatchKMeans(n_clusters=10, random_state=0, init=\"random\").fit(usrm)\n",
    "    kmu = clfs[2].predict(usrm)\n",
    "    kmu_oh = np.zeros((val.shape[0],10), dtype=np.uint8) # discrete value change to One-hot\n",
    "    for i in range(10):\n",
    "        idx = np.where(kmu==0)[0]\n",
    "        kmu_oh[idx,i] = 1\n",
    "    if clfs[3] is None:\n",
    "        clfs[3] = TruncatedSVD(n_components=2, n_iter=10, random_state=0).fit(usrm)\n",
    "    svdu = clfs[3].transform(usrm)\n",
    "    # Merge waypoints\n",
    "    marged = np.hstack([val[:,1:],km_oh,svd])\n",
    "    # Moving average and variance within the same user\n",
    "    wnd = np.zeros((val.shape[0],60), dtype=np.float16)\n",
    "    cp = val[0,0]\n",
    "    window = deque([marged[0,:15]] * 5)\n",
    "    for i in range(val.shape[0]):\n",
    "        if cp > val[i,0]:\n",
    "            window = deque([marged[i,:15]] * 5)\n",
    "        else:\n",
    "            window.popleft()\n",
    "            window.append(marged[i,:15])\n",
    "        cp = val[i,0]\n",
    "        wnd[i] = np.hstack([np.mean(window, axis=0),np.std(window, axis=0),np.min(window, axis=0),np.max(window, axis=0)])\n",
    "    # Analyze the entire merge data\n",
    "    usrv = np.hstack([svd,svdu])\n",
    "    if clfs[4] is None:\n",
    "        clfs[4] = [LinearRegression().fit(usrv, target[:,i]) for i in range(3)]\n",
    "    reg = np.stack([clfs[4][i].predict(usrv) for i in range(3)]).transpose((1,0))\n",
    "    if clfs[5] is None:\n",
    "        clfs[5] = TruncatedSVD(n_components=2, n_iter=10, random_state=0).fit(marged)\n",
    "    svdm = clfs[5].transform(marged)\n",
    "    # Marge all\n",
    "    return np.hstack([marged,wnd,reg,svdm,usrm,kmu_oh,svdu])"
   ]
  },
  {
   "cell_type": "markdown",
   "id": "023a5910",
   "metadata": {
    "papermill": {
     "duration": 0.008661,
     "end_time": "2023-03-17T13:05:13.623518",
     "exception": false,
     "start_time": "2023-03-17T13:05:13.614857",
     "status": "completed"
    },
    "tags": []
   },
   "source": [
    "## Optimize function to select learn feature"
   ]
  },
  {
   "cell_type": "code",
   "execution_count": 7,
   "id": "b70c2890",
   "metadata": {
    "execution": {
     "iopub.execute_input": "2023-03-17T13:05:13.649344Z",
     "iopub.status.busy": "2023-03-17T13:05:13.648437Z",
     "iopub.status.idle": "2023-03-17T13:05:13.664953Z",
     "shell.execute_reply": "2023-03-17T13:05:13.663994Z"
    },
    "papermill": {
     "duration": 0.033924,
     "end_time": "2023-03-17T13:05:13.667448",
     "exception": false,
     "start_time": "2023-03-17T13:05:13.633524",
     "status": "completed"
    },
    "tags": []
   },
   "outputs": [],
   "source": [
    "#from sklearn.tree import DecisionTreeRegressor\n",
    "def get_regressor(totest=False):\n",
    "    return Ridge(max_iter=200 if totest else 3000,random_state=0) #DecisionTreeRegressor(max_leaf_nodes=32, random_state=0)\n",
    "\n",
    "# Optimize which features are used and which are not used among the features created by feature engineering\n",
    "def optimize_use_feature(val, tgt):\n",
    "    feature_nums = (3,10,2,15,15,15,15,1,1,1,2,15,10,2)\n",
    "    feature_test = (0,0, 0,1, 1, 1, 1, 1,1,1,0,0, 0, 0)\n",
    "    \n",
    "    # Use less data for speed\n",
    "    use_test = min(max(int(val.shape[0]*0.05), 100000), val.shape[0])\n",
    "    kf = StratifiedKFold(n_splits=4, random_state=0, shuffle=True)\n",
    "    index_scores = np.zeros((3,128))\n",
    "    for c in range(3): # Use a different Feature for each target\n",
    "        for fold, (train_index, test_index) in enumerate(kf.split(val,tgt[:,c])):\n",
    "            train_index = train_index[:use_test]\n",
    "            # Combination of features to optimize\n",
    "            for i in range(128): # 7bit because it is a combination of 7 features\n",
    "                feature_index = list(range(sum(feature_nums[:3])))\n",
    "                curp = feature_index[-1]+1\n",
    "                for j in range(7):\n",
    "                    if ((i>>j)&1) != 0:\n",
    "                        feature_index += list(range(curp,curp+feature_nums[j+3],1))\n",
    "                    curp += feature_nums[j+3]\n",
    "                feature_index += list(range(curp,curp+sum(feature_nums[-4:]),1))\n",
    "                # run test training\n",
    "                train_val = val[train_index][:, feature_index]\n",
    "                train_tgt = tgt[train_index, c]\n",
    "                test_val = val[test_index][:, feature_index]\n",
    "                test_tgt = tgt[test_index, c]\n",
    "                clf = get_regressor(totest=True)\n",
    "                clf.fit(train_val, train_tgt)\n",
    "                # make score\n",
    "                pred = np.clip(np.nan_to_num(clf.predict(test_val)),0,1)\n",
    "                index_scores[c,i] += average_precision_score(test_tgt, pred)\n",
    "            break # only 1 fold\n",
    "    # get best features for each target\n",
    "    best_feature_index = []\n",
    "    for c in range(3):\n",
    "        best_index = np.argmax(index_scores[c])\n",
    "        feature_index = list(range(sum(feature_nums[:3])))\n",
    "        curp = feature_index[-1]+1\n",
    "        for j in range(7):\n",
    "            if ((best_index>>j)&1) != 0:\n",
    "                feature_index += list(range(curp,curp+feature_nums[j+3],1))\n",
    "            curp += feature_nums[j+3]\n",
    "        feature_index += list(range(curp,curp+sum(feature_nums[-4:]),1))\n",
    "        best_feature_index.append(feature_index)\n",
    "    return best_feature_index"
   ]
  },
  {
   "cell_type": "markdown",
   "id": "e73d0f58",
   "metadata": {
    "papermill": {
     "duration": 0.008822,
     "end_time": "2023-03-17T13:05:13.685589",
     "exception": false,
     "start_time": "2023-03-17T13:05:13.676767",
     "status": "completed"
    },
    "tags": []
   },
   "source": [
    "## Training and Prediction Function"
   ]
  },
  {
   "cell_type": "code",
   "execution_count": 8,
   "id": "aa51a9c5",
   "metadata": {
    "execution": {
     "iopub.execute_input": "2023-03-17T13:05:13.706361Z",
     "iopub.status.busy": "2023-03-17T13:05:13.705259Z",
     "iopub.status.idle": "2023-03-17T13:05:13.713541Z",
     "shell.execute_reply": "2023-03-17T13:05:13.712681Z"
    },
    "papermill": {
     "duration": 0.021313,
     "end_time": "2023-03-17T13:05:13.716016",
     "exception": false,
     "start_time": "2023-03-17T13:05:13.694703",
     "status": "completed"
    },
    "tags": []
   },
   "outputs": [],
   "source": [
    "def training(val, target, cols, grp):\n",
    "    kfold = GroupKFold(n_splits=5)\n",
    "    clfs = []\n",
    "    for i, (train_index, test_index) in enumerate(kfold.split(val, target, grp)):\n",
    "        clfs.append(get_regressor().fit(val[train_index][:, cols], target[train_index]))\n",
    "    return clfs\n",
    "\n",
    "def predict(clfs, val, cols):\n",
    "    result = None\n",
    "    for c in clfs:\n",
    "        result = c.predict(val[:, cols]) if result is None else (c.predict(val[:, cols]) + result)\n",
    "    return result / len(clfs)"
   ]
  },
  {
   "cell_type": "markdown",
   "id": "8833ed27",
   "metadata": {
    "papermill": {
     "duration": 0.008673,
     "end_time": "2023-03-17T13:05:13.733864",
     "exception": false,
     "start_time": "2023-03-17T13:05:13.725191",
     "status": "completed"
    },
    "tags": []
   },
   "source": [
    "## Get training datas"
   ]
  },
  {
   "cell_type": "code",
   "execution_count": 9,
   "id": "491b6027",
   "metadata": {
    "execution": {
     "iopub.execute_input": "2023-03-17T13:05:13.754361Z",
     "iopub.status.busy": "2023-03-17T13:05:13.753549Z",
     "iopub.status.idle": "2023-03-17T13:05:48.956668Z",
     "shell.execute_reply": "2023-03-17T13:05:48.955463Z"
    },
    "papermill": {
     "duration": 35.223916,
     "end_time": "2023-03-17T13:05:48.966864",
     "exception": false,
     "start_time": "2023-03-17T13:05:13.742948",
     "status": "completed"
    },
    "tags": []
   },
   "outputs": [
    {
     "data": {
      "text/plain": [
       "0"
      ]
     },
     "execution_count": 9,
     "metadata": {},
     "output_type": "execute_result"
    }
   ],
   "source": [
    "train_dfs = [pd.read_csv(\"/kaggle/input/tlvmc-parkinsons-freezing-gait-prediction/train/defog/\"+i)[train_cols+target_cols] for i in train_defog]\n",
    "train_grp = sum([[i]*len(d) for i,d in enumerate(train_dfs)], [])\n",
    "train_val = [i[train_cols].values for i in train_dfs]\n",
    "train_tgt = [i[target_cols].values for i in train_dfs]\n",
    "del train_dfs\n",
    "gc.collect()"
   ]
  },
  {
   "cell_type": "code",
   "execution_count": 10,
   "id": "6aea52d5",
   "metadata": {
    "execution": {
     "iopub.execute_input": "2023-03-17T13:05:48.987080Z",
     "iopub.status.busy": "2023-03-17T13:05:48.986662Z",
     "iopub.status.idle": "2023-03-17T13:05:49.479041Z",
     "shell.execute_reply": "2023-03-17T13:05:49.477724Z"
    },
    "papermill": {
     "duration": 0.505869,
     "end_time": "2023-03-17T13:05:49.481889",
     "exception": false,
     "start_time": "2023-03-17T13:05:48.976020",
     "status": "completed"
    },
    "tags": []
   },
   "outputs": [
    {
     "data": {
      "text/plain": [
       "21"
      ]
     },
     "execution_count": 10,
     "metadata": {},
     "output_type": "execute_result"
    }
   ],
   "source": [
    "train_val = np.vstack(train_val)\n",
    "train_tgt = np.vstack(train_tgt)\n",
    "gc.collect()"
   ]
  },
  {
   "cell_type": "code",
   "execution_count": 11,
   "id": "50c050a9",
   "metadata": {
    "execution": {
     "iopub.execute_input": "2023-03-17T13:05:49.503058Z",
     "iopub.status.busy": "2023-03-17T13:05:49.502545Z",
     "iopub.status.idle": "2023-03-17T13:30:07.771230Z",
     "shell.execute_reply": "2023-03-17T13:30:07.767068Z"
    },
    "papermill": {
     "duration": 1458.287457,
     "end_time": "2023-03-17T13:30:07.778806",
     "exception": false,
     "start_time": "2023-03-17T13:05:49.491349",
     "status": "completed"
    },
    "tags": []
   },
   "outputs": [
    {
     "name": "stderr",
     "output_type": "stream",
     "text": [
      "/opt/conda/lib/python3.7/site-packages/numpy/core/_methods.py:244: RuntimeWarning: overflow encountered in reduce\n",
      "  ret = umr_sum(x, axis, dtype, out, keepdims=keepdims, where=where)\n"
     ]
    }
   ],
   "source": [
    "defog_trans = [None, None, None, None, None ,None]\n",
    "train_val = feature_engineering(train_val, defog_trans, target=train_tgt)"
   ]
  },
  {
   "cell_type": "code",
   "execution_count": 12,
   "id": "a5d80413",
   "metadata": {
    "execution": {
     "iopub.execute_input": "2023-03-17T13:30:07.805960Z",
     "iopub.status.busy": "2023-03-17T13:30:07.805374Z",
     "iopub.status.idle": "2023-03-17T14:17:34.177048Z",
     "shell.execute_reply": "2023-03-17T14:17:34.175313Z"
    },
    "papermill": {
     "duration": 2846.388873,
     "end_time": "2023-03-17T14:17:34.181033",
     "exception": false,
     "start_time": "2023-03-17T13:30:07.792160",
     "status": "completed"
    },
    "tags": []
   },
   "outputs": [],
   "source": [
    "defog_features = optimize_use_feature(train_val, train_tgt)"
   ]
  },
  {
   "cell_type": "markdown",
   "id": "3e8a1adf",
   "metadata": {
    "papermill": {
     "duration": 0.009485,
     "end_time": "2023-03-17T14:17:34.201883",
     "exception": false,
     "start_time": "2023-03-17T14:17:34.192398",
     "status": "completed"
    },
    "tags": []
   },
   "source": [
    "## Learning"
   ]
  },
  {
   "cell_type": "code",
   "execution_count": 13,
   "id": "2d0e603b",
   "metadata": {
    "execution": {
     "iopub.execute_input": "2023-03-17T14:17:34.224788Z",
     "iopub.status.busy": "2023-03-17T14:17:34.223846Z",
     "iopub.status.idle": "2023-03-17T14:22:34.069469Z",
     "shell.execute_reply": "2023-03-17T14:22:34.067513Z"
    },
    "papermill": {
     "duration": 299.863051,
     "end_time": "2023-03-17T14:22:34.074877",
     "exception": false,
     "start_time": "2023-03-17T14:17:34.211826",
     "status": "completed"
    },
    "tags": []
   },
   "outputs": [],
   "source": [
    "train_val = train_val.astype(np.float16) # reduce memory\n",
    "gc.collect()\n",
    "defog_clf = [training(train_val,train_tgt[:,i],defog_features[i],train_grp) for i in range(len(target_cols))]"
   ]
  },
  {
   "cell_type": "code",
   "execution_count": 14,
   "id": "065a7966",
   "metadata": {
    "execution": {
     "iopub.execute_input": "2023-03-17T14:22:34.123748Z",
     "iopub.status.busy": "2023-03-17T14:22:34.122456Z",
     "iopub.status.idle": "2023-03-17T14:22:34.349435Z",
     "shell.execute_reply": "2023-03-17T14:22:34.348076Z"
    },
    "papermill": {
     "duration": 0.251913,
     "end_time": "2023-03-17T14:22:34.352741",
     "exception": false,
     "start_time": "2023-03-17T14:22:34.100828",
     "status": "completed"
    },
    "tags": []
   },
   "outputs": [
    {
     "data": {
      "text/plain": [
       "21"
      ]
     },
     "execution_count": 14,
     "metadata": {},
     "output_type": "execute_result"
    }
   ],
   "source": [
    "del train_val, train_tgt, train_defog, train_grp\n",
    "gc.collect()"
   ]
  },
  {
   "cell_type": "markdown",
   "id": "495aa5ae",
   "metadata": {
    "papermill": {
     "duration": 0.009434,
     "end_time": "2023-03-17T14:22:34.371944",
     "exception": false,
     "start_time": "2023-03-17T14:22:34.362510",
     "status": "completed"
    },
    "tags": []
   },
   "source": [
    "## Get training datas"
   ]
  },
  {
   "cell_type": "code",
   "execution_count": 15,
   "id": "e2431cae",
   "metadata": {
    "execution": {
     "iopub.execute_input": "2023-03-17T14:22:34.393786Z",
     "iopub.status.busy": "2023-03-17T14:22:34.393069Z",
     "iopub.status.idle": "2023-03-17T14:23:25.334913Z",
     "shell.execute_reply": "2023-03-17T14:23:25.333661Z"
    },
    "papermill": {
     "duration": 50.965537,
     "end_time": "2023-03-17T14:23:25.347221",
     "exception": false,
     "start_time": "2023-03-17T14:22:34.381684",
     "status": "completed"
    },
    "tags": []
   },
   "outputs": [
    {
     "data": {
      "text/plain": [
       "0"
      ]
     },
     "execution_count": 15,
     "metadata": {},
     "output_type": "execute_result"
    }
   ],
   "source": [
    "train_dfs = [pd.read_csv(\"/kaggle/input/tlvmc-parkinsons-freezing-gait-prediction/train/tdcsfog/\"+i)[train_cols+target_cols] for i in train_tdcsfog]\n",
    "train_grp = sum([[i]*len(d) for i,d in enumerate(train_dfs)], [])\n",
    "train_val = [i[train_cols].values for i in train_dfs]\n",
    "train_tgt = [i[target_cols].values for i in train_dfs]\n",
    "del train_dfs\n",
    "gc.collect()"
   ]
  },
  {
   "cell_type": "code",
   "execution_count": 16,
   "id": "14cfe637",
   "metadata": {
    "execution": {
     "iopub.execute_input": "2023-03-17T14:23:25.368864Z",
     "iopub.status.busy": "2023-03-17T14:23:25.368444Z",
     "iopub.status.idle": "2023-03-17T14:23:25.720632Z",
     "shell.execute_reply": "2023-03-17T14:23:25.719217Z"
    },
    "papermill": {
     "duration": 0.366365,
     "end_time": "2023-03-17T14:23:25.723369",
     "exception": false,
     "start_time": "2023-03-17T14:23:25.357004",
     "status": "completed"
    },
    "tags": []
   },
   "outputs": [
    {
     "data": {
      "text/plain": [
       "21"
      ]
     },
     "execution_count": 16,
     "metadata": {},
     "output_type": "execute_result"
    }
   ],
   "source": [
    "train_val = np.vstack(train_val)\n",
    "train_tgt = np.vstack(train_tgt)\n",
    "gc.collect()"
   ]
  },
  {
   "cell_type": "code",
   "execution_count": 17,
   "id": "5b0f297b",
   "metadata": {
    "execution": {
     "iopub.execute_input": "2023-03-17T14:23:25.746363Z",
     "iopub.status.busy": "2023-03-17T14:23:25.745567Z",
     "iopub.status.idle": "2023-03-17T14:36:08.174653Z",
     "shell.execute_reply": "2023-03-17T14:36:08.172643Z"
    },
    "papermill": {
     "duration": 762.445859,
     "end_time": "2023-03-17T14:36:08.179793",
     "exception": false,
     "start_time": "2023-03-17T14:23:25.733934",
     "status": "completed"
    },
    "tags": []
   },
   "outputs": [
    {
     "name": "stderr",
     "output_type": "stream",
     "text": [
      "/opt/conda/lib/python3.7/site-packages/numpy/core/_methods.py:212: RuntimeWarning: overflow encountered in reduce\n",
      "  arrmean = umr_sum(arr, axis, dtype, keepdims=True, where=where)\n",
      "/opt/conda/lib/python3.7/site-packages/numpy/core/_methods.py:244: RuntimeWarning: overflow encountered in reduce\n",
      "  ret = umr_sum(x, axis, dtype, out, keepdims=keepdims, where=where)\n"
     ]
    }
   ],
   "source": [
    "tdcsfog_trans = [None, None, None, None, None, None]\n",
    "train_val = feature_engineering(train_val, tdcsfog_trans, target=train_tgt)"
   ]
  },
  {
   "cell_type": "code",
   "execution_count": 18,
   "id": "f55e03e4",
   "metadata": {
    "execution": {
     "iopub.execute_input": "2023-03-17T14:36:08.206856Z",
     "iopub.status.busy": "2023-03-17T14:36:08.206372Z",
     "iopub.status.idle": "2023-03-17T15:02:06.086853Z",
     "shell.execute_reply": "2023-03-17T15:02:06.085219Z"
    },
    "papermill": {
     "duration": 1557.89656,
     "end_time": "2023-03-17T15:02:06.090394",
     "exception": false,
     "start_time": "2023-03-17T14:36:08.193834",
     "status": "completed"
    },
    "tags": []
   },
   "outputs": [],
   "source": [
    "tdcsfog_features = optimize_use_feature(train_val, train_tgt)"
   ]
  },
  {
   "cell_type": "markdown",
   "id": "842b6947",
   "metadata": {
    "papermill": {
     "duration": 0.010894,
     "end_time": "2023-03-17T15:02:06.113383",
     "exception": false,
     "start_time": "2023-03-17T15:02:06.102489",
     "status": "completed"
    },
    "tags": []
   },
   "source": [
    "## Learning"
   ]
  },
  {
   "cell_type": "code",
   "execution_count": 19,
   "id": "4baf4338",
   "metadata": {
    "execution": {
     "iopub.execute_input": "2023-03-17T15:02:06.138528Z",
     "iopub.status.busy": "2023-03-17T15:02:06.137690Z",
     "iopub.status.idle": "2023-03-17T15:04:51.488100Z",
     "shell.execute_reply": "2023-03-17T15:04:51.485823Z"
    },
    "papermill": {
     "duration": 165.369192,
     "end_time": "2023-03-17T15:04:51.493652",
     "exception": false,
     "start_time": "2023-03-17T15:02:06.124460",
     "status": "completed"
    },
    "tags": []
   },
   "outputs": [],
   "source": [
    "train_val = train_val.astype(np.float16) # reduce memory\n",
    "gc.collect()\n",
    "tdcsfog_clf = [training(train_val,train_tgt[:,i],tdcsfog_features[i],train_grp) for i in range(len(target_cols))]"
   ]
  },
  {
   "cell_type": "code",
   "execution_count": 20,
   "id": "f7b54b7c",
   "metadata": {
    "execution": {
     "iopub.execute_input": "2023-03-17T15:04:51.554573Z",
     "iopub.status.busy": "2023-03-17T15:04:51.552354Z",
     "iopub.status.idle": "2023-03-17T15:04:51.743785Z",
     "shell.execute_reply": "2023-03-17T15:04:51.742348Z"
    },
    "papermill": {
     "duration": 0.224375,
     "end_time": "2023-03-17T15:04:51.746393",
     "exception": false,
     "start_time": "2023-03-17T15:04:51.522018",
     "status": "completed"
    },
    "tags": []
   },
   "outputs": [
    {
     "data": {
      "text/plain": [
       "21"
      ]
     },
     "execution_count": 20,
     "metadata": {},
     "output_type": "execute_result"
    }
   ],
   "source": [
    "del train_val, train_tgt, train_tdcsfog, train_grp\n",
    "gc.collect()"
   ]
  },
  {
   "cell_type": "markdown",
   "id": "b045f4af",
   "metadata": {
    "papermill": {
     "duration": 0.010683,
     "end_time": "2023-03-17T15:04:51.768243",
     "exception": false,
     "start_time": "2023-03-17T15:04:51.757560",
     "status": "completed"
    },
    "tags": []
   },
   "source": [
    "## Get Prediction Datas"
   ]
  },
  {
   "cell_type": "code",
   "execution_count": 21,
   "id": "ac5f09a0",
   "metadata": {
    "execution": {
     "iopub.execute_input": "2023-03-17T15:04:51.792052Z",
     "iopub.status.busy": "2023-03-17T15:04:51.791382Z",
     "iopub.status.idle": "2023-03-17T15:04:52.355667Z",
     "shell.execute_reply": "2023-03-17T15:04:52.354358Z"
    },
    "papermill": {
     "duration": 0.57925,
     "end_time": "2023-03-17T15:04:52.358533",
     "exception": false,
     "start_time": "2023-03-17T15:04:51.779283",
     "status": "completed"
    },
    "tags": []
   },
   "outputs": [
    {
     "data": {
      "text/plain": [
       "21"
      ]
     },
     "execution_count": 21,
     "metadata": {},
     "output_type": "execute_result"
    }
   ],
   "source": [
    "test_dfs = [pd.read_csv(\"/kaggle/input/tlvmc-parkinsons-freezing-gait-prediction/test/defog/\"+i)[train_cols] for i in test_defog]\n",
    "test_val = [i.values for i in test_dfs]\n",
    "gc.collect()"
   ]
  },
  {
   "cell_type": "code",
   "execution_count": 22,
   "id": "8bf2a707",
   "metadata": {
    "execution": {
     "iopub.execute_input": "2023-03-17T15:04:52.383150Z",
     "iopub.status.busy": "2023-03-17T15:04:52.381737Z",
     "iopub.status.idle": "2023-03-17T15:05:20.173907Z",
     "shell.execute_reply": "2023-03-17T15:05:20.172385Z"
    },
    "papermill": {
     "duration": 27.807529,
     "end_time": "2023-03-17T15:05:20.176956",
     "exception": false,
     "start_time": "2023-03-17T15:04:52.369427",
     "status": "completed"
    },
    "tags": []
   },
   "outputs": [],
   "source": [
    "test_val = np.vstack(test_val)\n",
    "test_val = feature_engineering(test_val, defog_trans)"
   ]
  },
  {
   "cell_type": "markdown",
   "id": "cf054ac5",
   "metadata": {
    "papermill": {
     "duration": 0.010771,
     "end_time": "2023-03-17T15:05:20.198855",
     "exception": false,
     "start_time": "2023-03-17T15:05:20.188084",
     "status": "completed"
    },
    "tags": []
   },
   "source": [
    "# Run Predict"
   ]
  },
  {
   "cell_type": "code",
   "execution_count": 23,
   "id": "c49d9a5d",
   "metadata": {
    "execution": {
     "iopub.execute_input": "2023-03-17T15:05:20.223510Z",
     "iopub.status.busy": "2023-03-17T15:05:20.223036Z",
     "iopub.status.idle": "2023-03-17T15:05:25.827609Z",
     "shell.execute_reply": "2023-03-17T15:05:25.825824Z"
    },
    "papermill": {
     "duration": 5.622283,
     "end_time": "2023-03-17T15:05:25.832395",
     "exception": false,
     "start_time": "2023-03-17T15:05:20.210112",
     "status": "completed"
    },
    "tags": []
   },
   "outputs": [],
   "source": [
    "test_val = test_val.astype(np.float16) # reduce memory\n",
    "gc.collect()\n",
    "test_defog_preds = [np.clip(predict(c, test_val, defog_features[i]), 0, 1) for i,c in enumerate(defog_clf)]"
   ]
  },
  {
   "cell_type": "code",
   "execution_count": 24,
   "id": "04f84b67",
   "metadata": {
    "execution": {
     "iopub.execute_input": "2023-03-17T15:05:25.893025Z",
     "iopub.status.busy": "2023-03-17T15:05:25.892267Z",
     "iopub.status.idle": "2023-03-17T15:05:26.100561Z",
     "shell.execute_reply": "2023-03-17T15:05:26.099054Z"
    },
    "papermill": {
     "duration": 0.242,
     "end_time": "2023-03-17T15:05:26.103702",
     "exception": false,
     "start_time": "2023-03-17T15:05:25.861702",
     "status": "completed"
    },
    "tags": []
   },
   "outputs": [],
   "source": [
    "defog_ids = []\n",
    "for f,d in zip(test_defog,test_dfs):\n",
    "    fid = f.split(\".\")[0]\n",
    "    for t in d.Time.values:\n",
    "        sid = f\"{fid}_{t}\"\n",
    "        defog_ids.append(sid)"
   ]
  },
  {
   "cell_type": "code",
   "execution_count": 25,
   "id": "f1774b98",
   "metadata": {
    "execution": {
     "iopub.execute_input": "2023-03-17T15:05:26.128754Z",
     "iopub.status.busy": "2023-03-17T15:05:26.128281Z",
     "iopub.status.idle": "2023-03-17T15:05:26.260293Z",
     "shell.execute_reply": "2023-03-17T15:05:26.259004Z"
    },
    "papermill": {
     "duration": 0.147619,
     "end_time": "2023-03-17T15:05:26.262845",
     "exception": false,
     "start_time": "2023-03-17T15:05:26.115226",
     "status": "completed"
    },
    "tags": []
   },
   "outputs": [
    {
     "data": {
      "text/plain": [
       "42"
      ]
     },
     "execution_count": 25,
     "metadata": {},
     "output_type": "execute_result"
    }
   ],
   "source": [
    "del test_defog, test_dfs, test_val\n",
    "gc.collect()"
   ]
  },
  {
   "cell_type": "markdown",
   "id": "364eb61e",
   "metadata": {
    "papermill": {
     "duration": 0.01108,
     "end_time": "2023-03-17T15:05:26.285410",
     "exception": false,
     "start_time": "2023-03-17T15:05:26.274330",
     "status": "completed"
    },
    "tags": []
   },
   "source": [
    "## Get Prediction Datas"
   ]
  },
  {
   "cell_type": "code",
   "execution_count": 26,
   "id": "677ace27",
   "metadata": {
    "execution": {
     "iopub.execute_input": "2023-03-17T15:05:26.310022Z",
     "iopub.status.busy": "2023-03-17T15:05:26.309394Z",
     "iopub.status.idle": "2023-03-17T15:05:26.462865Z",
     "shell.execute_reply": "2023-03-17T15:05:26.461755Z"
    },
    "papermill": {
     "duration": 0.169212,
     "end_time": "2023-03-17T15:05:26.465789",
     "exception": false,
     "start_time": "2023-03-17T15:05:26.296577",
     "status": "completed"
    },
    "tags": []
   },
   "outputs": [
    {
     "data": {
      "text/plain": [
       "21"
      ]
     },
     "execution_count": 26,
     "metadata": {},
     "output_type": "execute_result"
    }
   ],
   "source": [
    "test_dfs = [pd.read_csv(\"/kaggle/input/tlvmc-parkinsons-freezing-gait-prediction/test/tdcsfog/\"+i)[train_cols] for i in test_tdcsfog]\n",
    "test_val = [i.values for i in test_dfs]\n",
    "gc.collect()"
   ]
  },
  {
   "cell_type": "code",
   "execution_count": 27,
   "id": "77a6eca1",
   "metadata": {
    "execution": {
     "iopub.execute_input": "2023-03-17T15:05:26.490595Z",
     "iopub.status.busy": "2023-03-17T15:05:26.490143Z",
     "iopub.status.idle": "2023-03-17T15:05:26.972765Z",
     "shell.execute_reply": "2023-03-17T15:05:26.970805Z"
    },
    "papermill": {
     "duration": 0.500934,
     "end_time": "2023-03-17T15:05:26.978140",
     "exception": false,
     "start_time": "2023-03-17T15:05:26.477206",
     "status": "completed"
    },
    "tags": []
   },
   "outputs": [],
   "source": [
    "test_val = np.vstack(test_val)\n",
    "test_val = feature_engineering(test_val, tdcsfog_trans)"
   ]
  },
  {
   "cell_type": "markdown",
   "id": "d7f6bf4f",
   "metadata": {
    "papermill": {
     "duration": 0.03088,
     "end_time": "2023-03-17T15:05:27.039544",
     "exception": false,
     "start_time": "2023-03-17T15:05:27.008664",
     "status": "completed"
    },
    "tags": []
   },
   "source": [
    "## Run Predict"
   ]
  },
  {
   "cell_type": "code",
   "execution_count": 28,
   "id": "6316f21a",
   "metadata": {
    "execution": {
     "iopub.execute_input": "2023-03-17T15:05:27.093037Z",
     "iopub.status.busy": "2023-03-17T15:05:27.092566Z",
     "iopub.status.idle": "2023-03-17T15:05:27.335111Z",
     "shell.execute_reply": "2023-03-17T15:05:27.333209Z"
    },
    "papermill": {
     "duration": 0.269397,
     "end_time": "2023-03-17T15:05:27.340290",
     "exception": false,
     "start_time": "2023-03-17T15:05:27.070893",
     "status": "completed"
    },
    "tags": []
   },
   "outputs": [],
   "source": [
    "test_val = test_val.astype(np.float16) # reduce memory\n",
    "gc.collect()\n",
    "test_tdcsfog_preds = [np.clip(predict(c, test_val, tdcsfog_features[i]), 0, 1) for i,c in enumerate(tdcsfog_clf)]"
   ]
  },
  {
   "cell_type": "code",
   "execution_count": 29,
   "id": "d263a34c",
   "metadata": {
    "execution": {
     "iopub.execute_input": "2023-03-17T15:05:27.402989Z",
     "iopub.status.busy": "2023-03-17T15:05:27.402170Z",
     "iopub.status.idle": "2023-03-17T15:05:27.422696Z",
     "shell.execute_reply": "2023-03-17T15:05:27.420822Z"
    },
    "papermill": {
     "duration": 0.058135,
     "end_time": "2023-03-17T15:05:27.427990",
     "exception": false,
     "start_time": "2023-03-17T15:05:27.369855",
     "status": "completed"
    },
    "tags": []
   },
   "outputs": [],
   "source": [
    "tdcsfog_ids = []\n",
    "for f,d in zip(test_tdcsfog,test_dfs):\n",
    "    fid = f.split(\".\")[0]\n",
    "    for t in d.Time.values:\n",
    "        sid = f\"{fid}_{t}\"\n",
    "        tdcsfog_ids.append(sid)"
   ]
  },
  {
   "cell_type": "code",
   "execution_count": 30,
   "id": "e9e1efc1",
   "metadata": {
    "execution": {
     "iopub.execute_input": "2023-03-17T15:05:27.469768Z",
     "iopub.status.busy": "2023-03-17T15:05:27.469349Z",
     "iopub.status.idle": "2023-03-17T15:05:27.605870Z",
     "shell.execute_reply": "2023-03-17T15:05:27.604592Z"
    },
    "papermill": {
     "duration": 0.152351,
     "end_time": "2023-03-17T15:05:27.608316",
     "exception": false,
     "start_time": "2023-03-17T15:05:27.455965",
     "status": "completed"
    },
    "tags": []
   },
   "outputs": [
    {
     "data": {
      "text/plain": [
       "42"
      ]
     },
     "execution_count": 30,
     "metadata": {},
     "output_type": "execute_result"
    }
   ],
   "source": [
    "del test_tdcsfog, test_dfs, test_val\n",
    "gc.collect()"
   ]
  },
  {
   "cell_type": "markdown",
   "id": "2ee8e01b",
   "metadata": {
    "papermill": {
     "duration": 0.011684,
     "end_time": "2023-03-17T15:05:27.632394",
     "exception": false,
     "start_time": "2023-03-17T15:05:27.620710",
     "status": "completed"
    },
    "tags": []
   },
   "source": [
    "## Make Submission File"
   ]
  },
  {
   "cell_type": "code",
   "execution_count": 31,
   "id": "ff10e25f",
   "metadata": {
    "execution": {
     "iopub.execute_input": "2023-03-17T15:05:27.659070Z",
     "iopub.status.busy": "2023-03-17T15:05:27.658333Z",
     "iopub.status.idle": "2023-03-17T15:05:27.735495Z",
     "shell.execute_reply": "2023-03-17T15:05:27.734128Z"
    },
    "papermill": {
     "duration": 0.09456,
     "end_time": "2023-03-17T15:05:27.738690",
     "exception": false,
     "start_time": "2023-03-17T15:05:27.644130",
     "status": "completed"
    },
    "tags": []
   },
   "outputs": [],
   "source": [
    "all_ids = defog_ids + tdcsfog_ids\n",
    "all_starts = list(test_defog_preds[0]) + list(test_tdcsfog_preds[0])\n",
    "all_turns = list(test_defog_preds[1]) + list(test_tdcsfog_preds[1])\n",
    "all_walkings = list(test_defog_preds[2]) + list(test_tdcsfog_preds[2])"
   ]
  },
  {
   "cell_type": "code",
   "execution_count": 32,
   "id": "84923c65",
   "metadata": {
    "execution": {
     "iopub.execute_input": "2023-03-17T15:05:27.765021Z",
     "iopub.status.busy": "2023-03-17T15:05:27.764594Z",
     "iopub.status.idle": "2023-03-17T15:05:28.005527Z",
     "shell.execute_reply": "2023-03-17T15:05:28.004045Z"
    },
    "papermill": {
     "duration": 0.257451,
     "end_time": "2023-03-17T15:05:28.008506",
     "exception": false,
     "start_time": "2023-03-17T15:05:27.751055",
     "status": "completed"
    },
    "tags": []
   },
   "outputs": [
    {
     "data": {
      "text/html": [
       "<div>\n",
       "<style scoped>\n",
       "    .dataframe tbody tr th:only-of-type {\n",
       "        vertical-align: middle;\n",
       "    }\n",
       "\n",
       "    .dataframe tbody tr th {\n",
       "        vertical-align: top;\n",
       "    }\n",
       "\n",
       "    .dataframe thead th {\n",
       "        text-align: right;\n",
       "    }\n",
       "</style>\n",
       "<table border=\"1\" class=\"dataframe\">\n",
       "  <thead>\n",
       "    <tr style=\"text-align: right;\">\n",
       "      <th></th>\n",
       "      <th>Id</th>\n",
       "      <th>StartHesitation</th>\n",
       "      <th>Turn</th>\n",
       "      <th>Walking</th>\n",
       "    </tr>\n",
       "  </thead>\n",
       "  <tbody>\n",
       "    <tr>\n",
       "      <th>0</th>\n",
       "      <td>02ab235146_0</td>\n",
       "      <td>0.0</td>\n",
       "      <td>0.0</td>\n",
       "      <td>1.0</td>\n",
       "    </tr>\n",
       "    <tr>\n",
       "      <th>1</th>\n",
       "      <td>02ab235146_1</td>\n",
       "      <td>0.0</td>\n",
       "      <td>0.0</td>\n",
       "      <td>1.0</td>\n",
       "    </tr>\n",
       "    <tr>\n",
       "      <th>2</th>\n",
       "      <td>02ab235146_2</td>\n",
       "      <td>0.0</td>\n",
       "      <td>0.0</td>\n",
       "      <td>1.0</td>\n",
       "    </tr>\n",
       "    <tr>\n",
       "      <th>3</th>\n",
       "      <td>02ab235146_3</td>\n",
       "      <td>0.0</td>\n",
       "      <td>0.0</td>\n",
       "      <td>1.0</td>\n",
       "    </tr>\n",
       "    <tr>\n",
       "      <th>4</th>\n",
       "      <td>02ab235146_4</td>\n",
       "      <td>0.0</td>\n",
       "      <td>0.0</td>\n",
       "      <td>1.0</td>\n",
       "    </tr>\n",
       "    <tr>\n",
       "      <th>...</th>\n",
       "      <td>...</td>\n",
       "      <td>...</td>\n",
       "      <td>...</td>\n",
       "      <td>...</td>\n",
       "    </tr>\n",
       "    <tr>\n",
       "      <th>286365</th>\n",
       "      <td>003f117e14_4677</td>\n",
       "      <td>1.0</td>\n",
       "      <td>1.0</td>\n",
       "      <td>1.0</td>\n",
       "    </tr>\n",
       "    <tr>\n",
       "      <th>286366</th>\n",
       "      <td>003f117e14_4678</td>\n",
       "      <td>1.0</td>\n",
       "      <td>1.0</td>\n",
       "      <td>1.0</td>\n",
       "    </tr>\n",
       "    <tr>\n",
       "      <th>286367</th>\n",
       "      <td>003f117e14_4679</td>\n",
       "      <td>1.0</td>\n",
       "      <td>1.0</td>\n",
       "      <td>1.0</td>\n",
       "    </tr>\n",
       "    <tr>\n",
       "      <th>286368</th>\n",
       "      <td>003f117e14_4680</td>\n",
       "      <td>1.0</td>\n",
       "      <td>1.0</td>\n",
       "      <td>1.0</td>\n",
       "    </tr>\n",
       "    <tr>\n",
       "      <th>286369</th>\n",
       "      <td>003f117e14_4681</td>\n",
       "      <td>1.0</td>\n",
       "      <td>1.0</td>\n",
       "      <td>1.0</td>\n",
       "    </tr>\n",
       "  </tbody>\n",
       "</table>\n",
       "<p>286370 rows × 4 columns</p>\n",
       "</div>"
      ],
      "text/plain": [
       "                     Id  StartHesitation  Turn  Walking\n",
       "0          02ab235146_0              0.0   0.0      1.0\n",
       "1          02ab235146_1              0.0   0.0      1.0\n",
       "2          02ab235146_2              0.0   0.0      1.0\n",
       "3          02ab235146_3              0.0   0.0      1.0\n",
       "4          02ab235146_4              0.0   0.0      1.0\n",
       "...                 ...              ...   ...      ...\n",
       "286365  003f117e14_4677              1.0   1.0      1.0\n",
       "286366  003f117e14_4678              1.0   1.0      1.0\n",
       "286367  003f117e14_4679              1.0   1.0      1.0\n",
       "286368  003f117e14_4680              1.0   1.0      1.0\n",
       "286369  003f117e14_4681              1.0   1.0      1.0\n",
       "\n",
       "[286370 rows x 4 columns]"
      ]
     },
     "execution_count": 32,
     "metadata": {},
     "output_type": "execute_result"
    }
   ],
   "source": [
    "df = pd.DataFrame({\"Id\":all_ids,\"StartHesitation\":all_starts,\"Turn\":all_turns,\"Walking\":all_walkings})\n",
    "df"
   ]
  },
  {
   "cell_type": "code",
   "execution_count": 33,
   "id": "659182cb",
   "metadata": {
    "execution": {
     "iopub.execute_input": "2023-03-17T15:05:28.035477Z",
     "iopub.status.busy": "2023-03-17T15:05:28.035024Z",
     "iopub.status.idle": "2023-03-17T15:05:28.708625Z",
     "shell.execute_reply": "2023-03-17T15:05:28.707698Z"
    },
    "papermill": {
     "duration": 0.690236,
     "end_time": "2023-03-17T15:05:28.711474",
     "exception": false,
     "start_time": "2023-03-17T15:05:28.021238",
     "status": "completed"
    },
    "tags": []
   },
   "outputs": [],
   "source": [
    "df.to_csv(\"submission.csv\", index=False)"
   ]
  }
 ],
 "metadata": {
  "kernelspec": {
   "display_name": "Python 3",
   "language": "python",
   "name": "python3"
  },
  "language_info": {
   "codemirror_mode": {
    "name": "ipython",
    "version": 3
   },
   "file_extension": ".py",
   "mimetype": "text/x-python",
   "name": "python",
   "nbconvert_exporter": "python",
   "pygments_lexer": "ipython3",
   "version": "3.7.12"
  },
  "papermill": {
   "default_parameters": {},
   "duration": 7227.527534,
   "end_time": "2023-03-17T15:05:29.866207",
   "environment_variables": {},
   "exception": null,
   "input_path": "__notebook__.ipynb",
   "output_path": "__notebook__.ipynb",
   "parameters": {},
   "start_time": "2023-03-17T13:05:02.338673",
   "version": "2.4.0"
  }
 },
 "nbformat": 4,
 "nbformat_minor": 5
}
